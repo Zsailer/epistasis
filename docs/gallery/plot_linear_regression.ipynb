{
  "nbformat_minor": 0,
  "nbformat": 4,
  "metadata": {
    "language_info": {
      "version": "3.5.4",
      "pygments_lexer": "ipython3",
      "codemirror_mode": {
        "version": 3,
        "name": "ipython"
      },
      "mimetype": "text/x-python",
      "name": "python",
      "nbconvert_exporter": "python",
      "file_extension": ".py"
    },
    "kernelspec": {
      "language": "python",
      "display_name": "Python 3",
      "name": "python3"
    }
  },
  "cells": [
    {
      "cell_type": "code",
      "execution_count": null,
      "source": [
        "%matplotlib inline"
      ],
      "outputs": [],
      "metadata": {
        "collapsed": false
      }
    },
    {
      "cell_type": "markdown",
      "source": [
        "\nHigh-order epistasis model\n==========================\n\n``EpistasisLinearRegression`` is the base class for fitting epistasis in linear genotype-phenotype\nmaps. It uses an ordinary least squares regression approach to estimate epistatic coefficients\nfrom a list of genotypes-phenotypes pairs.\n\nIt inherits Scikit-learn's ``LinearRegression``\nclass and follows the same API. (All attributes and methods are the same.) You can reference\ntheir Docs for more information about the regression aspect of these models.\n\nThe ``EpistasisLinearRegression`` class extends scikit-learn's models to fit\nepistatic coefficients in genotype-phenotype maps specifically. This means, it creates its own **X** matrix\nargument if you don't explicitly pass an ``X`` argument into the ``fit`` method.\n\n"
      ],
      "metadata": {}
    },
    {
      "cell_type": "code",
      "execution_count": null,
      "source": [
        "# Imports\nimport matplotlib.pyplot as plt\n\nfrom gpmap import GenotypePhenotypeMap\nfrom epistasis.models import EpistasisLinearRegression\nfrom epistasis.pyplot import plot_coefs\n\n\n# The data\nwildtype = \"000\"\ngenotypes = ['000', '001', '010', '011', '100', '101', '110', '111']\nphenotypes = [ 0.366, -0.593,  1.595, -0.753,  0.38 ,  1.296,  1.025, -0.519]\ngpm = GenotypePhenotypeMap(wildtype, genotypes, phenotypes)\n\n# Initialize a model\nmodel = EpistasisLinearRegression(order=3)\nmodel.add_gpm(gpm)\n\n# Fit the model\nmodel.fit()\n\nfig, ax = plot_coefs(model, figsize=(2,3))\nplt.show()"
      ],
      "outputs": [],
      "metadata": {
        "collapsed": false
      }
    }
  ]
}