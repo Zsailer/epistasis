{
  "metadata": {
    "language_info": {
      "name": "python",
      "file_extension": ".py",
      "nbconvert_exporter": "python",
      "version": "3.5.2",
      "pygments_lexer": "ipython3",
      "codemirror_mode": {
        "name": "ipython",
        "version": 3
      },
      "mimetype": "text/x-python"
    },
    "kernelspec": {
      "name": "python3",
      "language": "python",
      "display_name": "Python 3"
    }
  },
  "nbformat_minor": 0,
  "nbformat": 4,
  "cells": [
    {
      "cell_type": "code",
      "outputs": [],
      "metadata": {
        "collapsed": false
      },
      "source": [
        "%matplotlib inline"
      ],
      "execution_count": null
    },
    {
      "cell_type": "markdown",
      "metadata": {},
      "source": [
        "\nNonlinearSimulation\n===================\n\nOften, the genotype-phenotype map is nonlinear. That is to say, the genotypes and\nphenotypes change on different scales. Genotypes, for example, differ by discrete,\nlinear changes in sequences (known as mutations). How these changes translate to\nphenotype may be less obvious. Sometimes, the effects of mutations simply add together.\nSometimes, the effects multiply. \n\nThe ``epistasis`` package has ``NonlinearSimulation``\nclass that allows you to construct these more complicated genotype-phenotype maps.\nSimply define a function which transforms a linear genotype-phenotype map onto\na nonlinear scale. Note, the function must have ``x`` as the first argument. This\nargument represents the linearized phenotypes to be transformed.\n\n"
      ]
    },
    {
      "cell_type": "code",
      "outputs": [],
      "metadata": {
        "collapsed": false
      },
      "source": [
        "import matplotlib.pyplot as plt\nimport numpy as np\n\n# Import NonlinearSimulation from simulate module\nfrom epistasis.simulate import NonlinearSimulation"
      ],
      "execution_count": null
    },
    {
      "cell_type": "markdown",
      "metadata": {},
      "source": [
        "Define a nonlinear function that scales the\nthe genotype-phenotype map. \n\nThe example below models diminishing returns.\n\n"
      ]
    },
    {
      "cell_type": "code",
      "outputs": [],
      "metadata": {
        "collapsed": false
      },
      "source": [
        "def diminishing_returns(x, A):\n    return 1.0 / (1 + A * np.exp(-x))  \n\nx = np.linspace(0,5, 1000)\ny = diminishing_returns(x, 2)\nplt.plot(x, y)\nplt.title(\"Diminishing returns function\")\nplt.show()"
      ],
      "execution_count": null
    },
    {
      "cell_type": "markdown",
      "metadata": {},
      "source": [
        "Define the wildtype/ancestor and mutations\nin the genotype-phenotype map. Then, initialize \nthe simulation.\n\n"
      ]
    },
    {
      "cell_type": "code",
      "outputs": [],
      "metadata": {
        "collapsed": false
      },
      "source": [
        "wildtype = \"0000\"\nmutations = {\n    0: [\"0\",\"1\"],\n    1: [\"0\",\"1\"],\n    2: [\"0\",\"1\"],\n    3: [\"0\",\"1\"]\n}\n\n# The simulation takes the nonlinear function as an argument\n# and the p0 takes values for any extra parametes in the function.\n\nsim = NonlinearSimulation(wildtype, mutations, \n    function=diminishing_returns, \n    p0=[2], \n    model_type=\"local\")\n\n# Set the epistatis coefficients\nsim.set_coefs_order(2)\nsim.set_coefs_random((-.1,2))\n\nplt.plot(sim.p_additive, sim.phenotypes, 'o')\nplt.xlabel(\"additive phenotype\")\nplt.ylabel(\"nonlinear phenotypes\")\nplt.show()"
      ],
      "execution_count": null
    }
  ]
}