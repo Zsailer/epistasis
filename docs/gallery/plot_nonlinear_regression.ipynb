{
  "cells": [
    {
      "cell_type": "code",
      "source": [
        "%matplotlib inline"
      ],
      "metadata": {
        "collapsed": false
      },
      "outputs": [],
      "execution_count": null
    },
    {
      "cell_type": "markdown",
      "source": [
        "\nFitting nonlinear genotype-phenotype maps\n=========================================\n\nUse a linear, logistic regression model to estimate the positive/negative effects\nof mutations.\n\n"
      ],
      "metadata": {}
    },
    {
      "cell_type": "code",
      "source": [
        "# Imports\nimport matplotlib.pyplot as plt\n\nfrom gpmap.simulate import MountFujiSimulation\n\nfrom epistasis.models import EpistasisPowerTransform\nfrom epistasis.pyplot import plot_power_transform\n\n# The data\ngpm = MountFujiSimulation.from_length(4, field_strength=-1, roughness=(-1,1))\n\n# Initialize a model\nmodel = EpistasisPowerTransform(lmbda=1, A=0, B=0)\nmodel.add_gpm(gpm)\n\n# Fit the model\nmodel.fit()\n\nfig, ax = plt.subplots(figsize=(2.5,2.5))\nax = plot_power_transform(model)\nplt.show()"
      ],
      "metadata": {
        "collapsed": false
      },
      "outputs": [],
      "execution_count": null
    }
  ],
  "metadata": {
    "kernelspec": {
      "name": "python3",
      "language": "python",
      "display_name": "Python 3"
    },
    "language_info": {
      "pygments_lexer": "ipython3",
      "codemirror_mode": {
        "name": "ipython",
        "version": 3
      },
      "version": "3.5.4",
      "mimetype": "text/x-python",
      "name": "python",
      "nbconvert_exporter": "python",
      "file_extension": ".py"
    }
  },
  "nbformat_minor": 0,
  "nbformat": 4
}