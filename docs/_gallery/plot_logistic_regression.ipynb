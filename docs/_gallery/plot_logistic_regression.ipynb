{
  "nbformat_minor": 0,
  "cells": [
    {
      "outputs": [],
      "execution_count": null,
      "source": [
        "%matplotlib inline"
      ],
      "cell_type": "code",
      "metadata": {
        "collapsed": false
      }
    },
    {
      "source": [
        "\nEpistasis LogisticRegression\n============================\n\nUse a linear, logistic regression model to estimate the positive/negative effects\nof mutations.\n\n"
      ],
      "cell_type": "markdown",
      "metadata": {}
    },
    {
      "outputs": [],
      "execution_count": null,
      "source": [
        "# Import the epistasis class\nimport matplotlib.pyplot as plt\nfrom epistasis.models import EpistasisLogisticRegression\nimport epistasis.plot\n\n# The data\n\nwildtype = \"000\"\ngenotypes = ['000', '001', '010', '011', '100', '101', '110', '111']\nphenotypes = [ 0.366, -0.593,  1.595, -0.753,  0.38 ,  1.296,  1.025, -0.519]\nmutations = {0:[\"0\",\"1\"],1:[\"0\",\"1\"],2:[\"0\",\"1\"]}\n\n# Threshold\nthreshold = 1.0\n\n# Initialize a model\nmodel = EpistasisLogisticRegression(threshold=threshold, order=1)\n\n# Add the data to the model\nmodel.add_data(wildtype, genotypes, phenotypes, mutations=mutations)\n\n# Fit the model\nmodel.fit()\n\n# Access the epistatic coefficients\nsites = model.epistasis.sites\nvals = model.epistasis.values\n\nfig, ax = epistasis.plot.coefs(vals, sites, figsize=(1,3))\nfig"
      ],
      "cell_type": "code",
      "metadata": {
        "collapsed": false
      }
    }
  ],
  "nbformat": 4,
  "metadata": {
    "kernelspec": {
      "display_name": "Python 3",
      "name": "python3",
      "language": "python"
    },
    "language_info": {
      "version": "3.5.2",
      "pygments_lexer": "ipython3",
      "file_extension": ".py",
      "nbconvert_exporter": "python",
      "codemirror_mode": {
        "version": 3,
        "name": "ipython"
      },
      "name": "python",
      "mimetype": "text/x-python"
    }
  }
}