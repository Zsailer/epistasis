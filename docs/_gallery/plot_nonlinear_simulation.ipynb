{
  "nbformat_minor": 0,
  "cells": [
    {
      "outputs": [],
      "execution_count": null,
      "source": [
        "%matplotlib inline"
      ],
      "cell_type": "code",
      "metadata": {
        "collapsed": false
      }
    },
    {
      "source": [
        "\nNonlinearSimulation\n===================\n\nOften, the genotype-phenotype map is nonlinear. That is to say, the genotypes and\nphenotypes change on different scales. Genotypes, for example, differ by discrete,\nlinear changes in sequences (known as mutations). How these changes translate to\nphenotype may be less obvious. Sometimes, the effects of mutations simply add together.\nSometimes, the effects multiply. \n\nThe ``epistasis`` package has ``NonlinearSimulation``\nclass that allows you to construct these more complicated genotype-phenotype maps.\nSimply define a function which transforms a linear genotype-phenotype map onto\na nonlinear scale. Note, the function must have ``x`` as the first argument. This\nargument represents the linearized phenotypes to be transformed.\n\n"
      ],
      "cell_type": "markdown",
      "metadata": {}
    },
    {
      "outputs": [],
      "execution_count": null,
      "source": [
        "import matplotlib.pyplot as plt\nimport numpy as np\n\n# Import NonlinearSimulation from simulate module\nfrom epistasis.simulate import NonlinearSimulation"
      ],
      "cell_type": "code",
      "metadata": {
        "collapsed": false
      }
    },
    {
      "source": [
        "Define a nonlinear function that scales the\nthe genotype-phenotype map. \n\nThe example below models diminishing returns.\n\n"
      ],
      "cell_type": "markdown",
      "metadata": {}
    },
    {
      "outputs": [],
      "execution_count": null,
      "source": [
        "def diminishing_returns(x, A):\n    return 1.0 / (1 + A * np.exp(-x))  \n\nx = np.linspace(0,5, 1000)\ny = diminishing_returns(x, 2)\nplt.plot(x, y)\nplt.title(\"Diminishing returns function\")\nplt.show()"
      ],
      "cell_type": "code",
      "metadata": {
        "collapsed": false
      }
    },
    {
      "source": [
        "Define the wildtype/ancestor and mutations\nin the genotype-phenotype map.\n\nThen, initialize the simulation\n\n"
      ],
      "cell_type": "markdown",
      "metadata": {}
    },
    {
      "outputs": [],
      "execution_count": null,
      "source": [
        "wildtype = \"0000\"\nmutations = {\n    0: [\"0\",\"1\"],\n    1: [\"0\",\"1\"],\n    2: [\"0\",\"1\"],\n    3: [\"0\",\"1\"]\n}\n\n# Initialize the simulation.\n# The simulation takes the nonlinear function as an argument\n# and the p0 takes values for any extra parametes in the function.\n\nsim = NonlinearSimulation(wildtype, mutations, \n    function=diminishing_returns, \n    p0=[2], \n    model_type=\"local\")\n\n# Set the epistatis coefficients\nsim.set_coefs_order(2)\nsim.set_coefs_random((-.1,2))\n\nplt.plot(sim.p_additive, sim.phenotypes, 'o')\nplt.xlabel(\"additive phenotype\")\nplt.ylabel(\"nonlinear phenotypes\")\nplt.show()"
      ],
      "cell_type": "code",
      "metadata": {
        "collapsed": false
      }
    }
  ],
  "nbformat": 4,
  "metadata": {
    "kernelspec": {
      "display_name": "Python 3",
      "name": "python3",
      "language": "python"
    },
    "language_info": {
      "version": "3.5.2",
      "pygments_lexer": "ipython3",
      "file_extension": ".py",
      "nbconvert_exporter": "python",
      "codemirror_mode": {
        "version": 3,
        "name": "ipython"
      },
      "name": "python",
      "mimetype": "text/x-python"
    }
  }
}