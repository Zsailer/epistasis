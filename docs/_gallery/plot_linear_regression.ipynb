{
  "nbformat_minor": 0,
  "cells": [
    {
      "outputs": [],
      "execution_count": null,
      "source": [
        "%matplotlib inline"
      ],
      "cell_type": "code",
      "metadata": {
        "collapsed": false
      }
    },
    {
      "source": [
        "\nEpistasis LinearRegression\n==========================\n\n``EpistasisLinearRegression`` is the base class for fitting epistasis in linear genotype-phenotype\nmaps. It uses an ordinary least squares regression approach to estimate epistatic coefficients\nfrom a list of genotypes-phenotypes pairs.\n\nIt inherits Scikit-learn's ``LinearRegression``\nclass and follows the same API. (All attributes and methods are the same.) You can reference\ntheir Docs for more information about the regression aspect of these models.\n\nThe ``EpistasisLinearRegression`` class extends scikit-learn's models to fit\nepistatic coefficients in genotype-phenotype maps specifically. This means, it creates its own **X** matrix\nargument if you don't explicitly pass an ``X`` argument into the ``fit`` method.\n\n"
      ],
      "cell_type": "markdown",
      "metadata": {}
    },
    {
      "outputs": [],
      "execution_count": null,
      "source": [
        "# Import the epistasis class\nimport matplotlib.pyplot as plt\nfrom epistasis.models import EpistasisLinearRegression\nimport epistasis.plot\n\n# The data\n\nwildtype = \"000\"\ngenotypes = ['000', '001', '010', '011', '100', '101', '110', '111']\nphenotypes = [ 0.366, -0.593,  1.595, -0.753,  0.38 ,  1.296,  1.025, -0.519]\nmutations = {0:[\"0\",\"1\"],1:[\"0\",\"1\"],2:[\"0\",\"1\"]}\n\n# Initialize a model\nmodel = EpistasisLinearRegression(order=3)\n\n# Add the data to the model\nmodel.add_data(wildtype, genotypes, phenotypes, mutations=mutations)\n\n# Fit the model\nmodel.fit()\n\n# Access the epistatic coefficients\nsites = model.epistasis.sites\nvals = model.epistasis.values\n\nfig, ax = epistasis.plot.coefs(vals, sites, figsize=(2,3))\nplt.show()"
      ],
      "cell_type": "code",
      "metadata": {
        "collapsed": false
      }
    }
  ],
  "nbformat": 4,
  "metadata": {
    "kernelspec": {
      "display_name": "Python 3",
      "name": "python3",
      "language": "python"
    },
    "language_info": {
      "version": "3.5.2",
      "pygments_lexer": "ipython3",
      "file_extension": ".py",
      "nbconvert_exporter": "python",
      "codemirror_mode": {
        "version": 3,
        "name": "ipython"
      },
      "name": "python",
      "mimetype": "text/x-python"
    }
  }
}