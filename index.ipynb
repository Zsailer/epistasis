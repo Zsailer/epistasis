{
 "cells": [
  {
   "cell_type": "markdown",
   "metadata": {},
   "source": [
    "# Epistasis Package Binder\n",
    "\n",
    "The following set of notebooks provide tutorials for using the `epistasis` API. Test them out and let us know what you think on Gitter! \n",
    "\n",
    "If you find any bugs, open an issue on Github, or even better, open a pull request with the fix!\n",
    "\n",
    "## List of notebooks\n",
    "\n",
    "* [Fit a genotype-phenotype map with a linear epistasis model](linear epistasis model to decompose genotype-phenotype map.ipynb)\n",
    "* [Fit estimate nonlinearity in a genotype-phenotype map with a nonlinear epistasis model](nonlinear epistasis model to decompose genotype-phenotype map.ipynb)\n",
    "* [Simulate epistasis in genotype-phenotype maps](simulating genotype-phenotype maps with high order epistasis.ipynb)"
   ]
  }
 ],
 "metadata": {
  "kernelspec": {
   "display_name": "Python 3",
   "language": "python",
   "name": "python3"
  },
  "language_info": {
   "codemirror_mode": {
    "name": "ipython",
    "version": 3
   },
   "file_extension": ".py",
   "mimetype": "text/x-python",
   "name": "python",
   "nbconvert_exporter": "python",
   "pygments_lexer": "ipython3",
   "version": "3.5.0"
  }
 },
 "nbformat": 4,
 "nbformat_minor": 1
}
