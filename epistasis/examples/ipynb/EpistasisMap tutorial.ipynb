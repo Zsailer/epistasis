{
 "cells": [
  {
   "cell_type": "markdown",
   "metadata": {},
   "source": [
    "# Demonstrating how the EpistasisMap object works."
   ]
  },
  {
   "cell_type": "markdown",
   "metadata": {},
   "source": [
    "This notebook demonstrates hwo the `EpistasisMap` object, the core of the epistasis model, works. Its responsibility is to hold the genotype-phenotype map, efficiently map parameters from the Epistasis Models, and be stable against memory leaks."
   ]
  },
  {
   "cell_type": "code",
   "execution_count": 1,
   "metadata": {
    "collapsed": false
   },
   "outputs": [],
   "source": [
    "import numpy as np\n",
    "import itertools as it"
   ]
  },
  {
   "cell_type": "markdown",
   "metadata": {},
   "source": [
    "We need a method for generating a genotype space that we'll use in this example. This method will take two sequences that differ at all sites and generate a binary sequence space between them. "
   ]
  },
  {
   "cell_type": "code",
   "execution_count": 2,
   "metadata": {
    "collapsed": true
   },
   "outputs": [],
   "source": [
    "def generate_sequence_space(wildtype, mutant):\n",
    "    \"\"\" Generate binary sequence space between ancestor and derived sequence. \"\"\"\n",
    "    if len(wildtype) != len(mutant):\n",
    "        raise IndexError(\"ancestor_sequence and derived sequence must be the same length.\")\n",
    "\n",
    "    binaries = sorted([\"\".join(list(s)) for s in it.product('01', repeat=len(wildtype))])\n",
    "    sequence_space = list()\n",
    "    for b in binaries:\n",
    "        binary = list(b)\n",
    "        sequence = list()\n",
    "        for i in range(len(wildtype)):\n",
    "            if b[i] == '0':\n",
    "                sequence.append(wildtype[i])\n",
    "            else:\n",
    "                sequence.append(mutant[i])\n",
    "        sequence_space.append(''.join(sequence))\n",
    "    return sequence_space"
   ]
  },
  {
   "cell_type": "markdown",
   "metadata": {},
   "source": [
    "Use the method to generate a toy genotype-to-phenotype map."
   ]
  },
  {
   "cell_type": "code",
   "execution_count": 3,
   "metadata": {
    "collapsed": false
   },
   "outputs": [],
   "source": [
    "seq1 = 'AAAAA'\n",
    "seq2 = 'VVVVV'\n",
    "genotypes = generate_sequence_space(seq1, seq2)\n",
    "phenotypes = np.random.rand(len(genotypes))"
   ]
  },
  {
   "cell_type": "markdown",
   "metadata": {},
   "source": [
    "Let's import the `EpistasisMap` object. This is the core of the `epistasis` module; it is contains the internal mapping for all the Epistasis Models. "
   ]
  },
  {
   "cell_type": "code",
   "execution_count": 4,
   "metadata": {
    "collapsed": false
   },
   "outputs": [],
   "source": [
    "from epistasis.core.em import EpistasisMap"
   ]
  },
  {
   "cell_type": "markdown",
   "metadata": {},
   "source": [
    "Read the documentation for the object."
   ]
  },
  {
   "cell_type": "code",
   "execution_count": 5,
   "metadata": {
    "collapsed": true
   },
   "outputs": [],
   "source": [
    "EpistasisMap?"
   ]
  },
  {
   "cell_type": "markdown",
   "metadata": {},
   "source": [
    "First, we'll create an instance of the object and populate it with the sequence space we created. "
   ]
  },
  {
   "cell_type": "code",
   "execution_count": 6,
   "metadata": {
    "collapsed": false
   },
   "outputs": [],
   "source": [
    "em = EpistasisMap()\n",
    "em.genotypes = genotypes\n",
    "em.phenotypes = phenotypes\n",
    "em.order = 5\n",
    "em.wildtype = 'AAAAA'"
   ]
  },
  {
   "cell_type": "markdown",
   "metadata": {},
   "source": [
    "This object automatically builds all possible epistatic interactions to the specified order on initialization."
   ]
  },
  {
   "cell_type": "code",
   "execution_count": 7,
   "metadata": {
    "collapsed": false
   },
   "outputs": [
    {
     "data": {
      "text/plain": [
       "['A0V',\n",
       " 'A1V',\n",
       " 'A2V',\n",
       " 'A3V',\n",
       " 'A4V',\n",
       " 'A5V',\n",
       " 'A1V,A2V',\n",
       " 'A1V,A3V',\n",
       " 'A1V,A4V',\n",
       " 'A1V,A5V',\n",
       " 'A2V,A3V',\n",
       " 'A2V,A4V',\n",
       " 'A2V,A5V',\n",
       " 'A3V,A4V',\n",
       " 'A3V,A5V',\n",
       " 'A4V,A5V',\n",
       " 'A1V,A2V,A3V',\n",
       " 'A1V,A2V,A4V',\n",
       " 'A1V,A2V,A5V',\n",
       " 'A1V,A3V,A4V',\n",
       " 'A1V,A3V,A5V',\n",
       " 'A1V,A4V,A5V',\n",
       " 'A2V,A3V,A4V',\n",
       " 'A2V,A3V,A5V',\n",
       " 'A2V,A4V,A5V',\n",
       " 'A3V,A4V,A5V',\n",
       " 'A1V,A2V,A3V,A4V',\n",
       " 'A1V,A2V,A3V,A5V',\n",
       " 'A1V,A2V,A4V,A5V',\n",
       " 'A1V,A3V,A4V,A5V',\n",
       " 'A2V,A3V,A4V,A5V',\n",
       " 'A1V,A2V,A3V,A4V,A5V']"
      ]
     },
     "execution_count": 7,
     "metadata": {},
     "output_type": "execute_result"
    }
   ],
   "source": [
    "em.interaction_genotypes"
   ]
  },
  {
   "cell_type": "markdown",
   "metadata": {},
   "source": [
    "## How I do use EpistasisMap?"
   ]
  },
  {
   "cell_type": "markdown",
   "metadata": {},
   "source": [
    "The main reason for an `EpistasisMap` is to efficiently map genotypes to phenotypes, to mutations, to epistatic interactions, to experimental errors, to epistatic uncertainty, etc. The main issue this object solves is storing these maps efficiently in memory, especially when the space gets *large*.\n",
    "\n",
    "### Different types of Maps\n",
    "This object builds all maps on the fly to avoid storing these objects in memory (since dictionary can have high memory costs)."
   ]
  },
  {
   "cell_type": "markdown",
   "metadata": {},
   "source": [
    "#### Genotype-Binary Map Representation"
   ]
  },
  {
   "cell_type": "code",
   "execution_count": 8,
   "metadata": {
    "collapsed": false
   },
   "outputs": [
    {
     "data": {
      "text/plain": [
       "{'AAAAA': '00000',\n",
       " 'AAAAV': '00001',\n",
       " 'AAAVA': '00010',\n",
       " 'AAAVV': '00011',\n",
       " 'AAVAA': '00100',\n",
       " 'AAVAV': '00101',\n",
       " 'AAVVA': '00110',\n",
       " 'AAVVV': '00111',\n",
       " 'AVAAA': '01000',\n",
       " 'AVAAV': '01001',\n",
       " 'AVAVA': '01010',\n",
       " 'AVAVV': '01011',\n",
       " 'AVVAA': '01100',\n",
       " 'AVVAV': '01101',\n",
       " 'AVVVA': '01110',\n",
       " 'AVVVV': '01111',\n",
       " 'VAAAA': '10000',\n",
       " 'VAAAV': '10001',\n",
       " 'VAAVA': '10010',\n",
       " 'VAAVV': '10011',\n",
       " 'VAVAA': '10100',\n",
       " 'VAVAV': '10101',\n",
       " 'VAVVA': '10110',\n",
       " 'VAVVV': '10111',\n",
       " 'VVAAA': '11000',\n",
       " 'VVAAV': '11001',\n",
       " 'VVAVA': '11010',\n",
       " 'VVAVV': '11011',\n",
       " 'VVVAA': '11100',\n",
       " 'VVVAV': '11101',\n",
       " 'VVVVA': '11110',\n",
       " 'VVVVV': '11111'}"
      ]
     },
     "execution_count": 8,
     "metadata": {},
     "output_type": "execute_result"
    }
   ],
   "source": [
    "em.geno2binary"
   ]
  },
  {
   "cell_type": "markdown",
   "metadata": {},
   "source": [
    "#### Epistastic interaction-to-value Map"
   ]
  },
  {
   "cell_type": "markdown",
   "metadata": {},
   "source": [
    "Assuming you've run an epistasis model, you can call this mapping\n",
    "\n",
    "``` \n",
    "em.key2value\n",
    "```"
   ]
  },
  {
   "cell_type": "markdown",
   "metadata": {},
   "source": [
    "#### Epistatic interaction (genotype)-to-value Map"
   ]
  },
  {
   "cell_type": "markdown",
   "metadata": {
    "collapsed": false
   },
   "source": [
    "Assuming you've run an epistasis model, you can call this mapping\n",
    "\n",
    "``` \n",
    "em.genotype2value\n",
    "```"
   ]
  },
  {
   "cell_type": "markdown",
   "metadata": {},
   "source": [
    "#### And many more! \n",
    "\n",
    "Read the docstring for more information"
   ]
  }
 ],
 "metadata": {
  "kernelspec": {
   "display_name": "Python 2",
   "language": "python",
   "name": "python2"
  },
  "language_info": {
   "codemirror_mode": {
    "name": "ipython",
    "version": 2
   },
   "file_extension": ".py",
   "mimetype": "text/x-python",
   "name": "python",
   "nbconvert_exporter": "python",
   "pygments_lexer": "ipython2",
   "version": "2.7.6"
  }
 },
 "nbformat": 4,
 "nbformat_minor": 0
}
