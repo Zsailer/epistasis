{
 "cells": [
  {
   "cell_type": "markdown",
   "metadata": {},
   "source": [
    "# Demonstrating how the EpistasisMap object works."
   ]
  },
  {
   "cell_type": "markdown",
   "metadata": {},
   "source": [
    "This notebook demonstrates hwo the `EpistasisMap` object, the core of the epistasis model, works. Its responsibility is to hold the genotype-phenotype map, efficiently map parameters from the Epistasis Models, and be stable against memory leaks."
   ]
  },
  {
   "cell_type": "code",
   "execution_count": 1,
   "metadata": {
    "collapsed": false
   },
   "outputs": [],
   "source": [
    "import numpy as np"
   ]
  },
  {
   "cell_type": "markdown",
   "metadata": {},
   "source": [
    "We need a method for generating a genotype space that we'll use in this example. This method will take two sequences that differ at all sites and generate a binary sequence space between them. "
   ]
  },
  {
   "cell_type": "code",
   "execution_count": 2,
   "metadata": {
    "collapsed": true
   },
   "outputs": [],
   "source": [
    "from epistasis.core.utils import generate_binary_space"
   ]
  },
  {
   "cell_type": "markdown",
   "metadata": {},
   "source": [
    "Use the method to generate a toy genotype-to-phenotype map."
   ]
  },
  {
   "cell_type": "code",
   "execution_count": 3,
   "metadata": {
    "collapsed": false
   },
   "outputs": [],
   "source": [
    "seq1 = 'AAAAA'\n",
    "seq2 = 'VVVVV'\n",
    "genotypes = generate_binary_space(seq1, seq2)\n",
    "phenotypes = np.random.rand(len(genotypes))"
   ]
  },
  {
   "cell_type": "markdown",
   "metadata": {},
   "source": [
    "Let's import the `EpistasisMap` object. This is the core of the `epistasis` module; it is contains the internal mapping for all the Epistasis Models. "
   ]
  },
  {
   "cell_type": "code",
   "execution_count": 4,
   "metadata": {
    "collapsed": false
   },
   "outputs": [],
   "source": [
    "from epistasis.core.em import EpistasisMap"
   ]
  },
  {
   "cell_type": "markdown",
   "metadata": {},
   "source": [
    "Read the documentation for the object."
   ]
  },
  {
   "cell_type": "code",
   "execution_count": 5,
   "metadata": {
    "collapsed": true
   },
   "outputs": [],
   "source": [
    "EpistasisMap?"
   ]
  },
  {
   "cell_type": "markdown",
   "metadata": {},
   "source": [
    "First, we'll create an instance of the object and populate it with the sequence space we created. "
   ]
  },
  {
   "cell_type": "code",
   "execution_count": 6,
   "metadata": {
    "collapsed": false
   },
   "outputs": [],
   "source": [
    "em = EpistasisMap()\n",
    "em.genotypes = genotypes\n",
    "em.phenotypes = phenotypes\n",
    "em.order = 5\n",
    "em.wildtype = 'AAAAA'"
   ]
  },
  {
   "cell_type": "markdown",
   "metadata": {},
   "source": [
    "This object automatically builds all possible epistatic interactions to the specified order on initialization."
   ]
  },
  {
   "cell_type": "code",
   "execution_count": 7,
   "metadata": {
    "collapsed": false
   },
   "outputs": [
    {
     "data": {
      "text/plain": [
       "['A0V',\n",
       " 'A1V',\n",
       " 'A2V',\n",
       " 'A3V',\n",
       " 'A4V',\n",
       " 'A5V',\n",
       " 'A1V,A2V',\n",
       " 'A1V,A3V',\n",
       " 'A1V,A4V',\n",
       " 'A1V,A5V',\n",
       " 'A2V,A3V',\n",
       " 'A2V,A4V',\n",
       " 'A2V,A5V',\n",
       " 'A3V,A4V',\n",
       " 'A3V,A5V',\n",
       " 'A4V,A5V',\n",
       " 'A1V,A2V,A3V',\n",
       " 'A1V,A2V,A4V',\n",
       " 'A1V,A2V,A5V',\n",
       " 'A1V,A3V,A4V',\n",
       " 'A1V,A3V,A5V',\n",
       " 'A1V,A4V,A5V',\n",
       " 'A2V,A3V,A4V',\n",
       " 'A2V,A3V,A5V',\n",
       " 'A2V,A4V,A5V',\n",
       " 'A3V,A4V,A5V',\n",
       " 'A1V,A2V,A3V,A4V',\n",
       " 'A1V,A2V,A3V,A5V',\n",
       " 'A1V,A2V,A4V,A5V',\n",
       " 'A1V,A3V,A4V,A5V',\n",
       " 'A2V,A3V,A4V,A5V',\n",
       " 'A1V,A2V,A3V,A4V,A5V']"
      ]
     },
     "execution_count": 7,
     "metadata": {},
     "output_type": "execute_result"
    }
   ],
   "source": [
    "em.interaction_genotypes"
   ]
  },
  {
   "cell_type": "markdown",
   "metadata": {},
   "source": [
    "Now, let's set a different wildtype as a reference... notice how the new binary representation maps."
   ]
  },
  {
   "cell_type": "markdown",
   "metadata": {},
   "source": [
    "## Example of more complex mapping"
   ]
  },
  {
   "cell_type": "code",
   "execution_count": 8,
   "metadata": {
    "collapsed": true
   },
   "outputs": [],
   "source": [
    "em = EpistasisMap()\n",
    "em.genotypes = genotypes\n",
    "em.phenotypes = phenotypes\n",
    "em.order = 5\n",
    "em.wildtype = 'AVVAA'"
   ]
  },
  {
   "cell_type": "code",
   "execution_count": 9,
   "metadata": {
    "collapsed": false
   },
   "outputs": [
    {
     "data": {
      "text/plain": [
       "OrderedDict([('AAAAA', 0.95197445099250222), ('AAAAV', 0.26502209616206762), ('AAAVA', 0.15097394179854584), ('AAAVV', 0.56813948256747204), ('AAVAA', 0.47978625353393145), ('AAVAV', 0.73449449836357128), ('AAVVA', 0.4212844484583611), ('AAVVV', 0.91719025609703064), ('AVAAA', 0.78911774610496999), ('AVAAV', 0.55564153459889565), ('AVAVA', 0.61886246107478404), ('AVAVV', 0.90143345070915393), ('AVVAA', 0.77151033723779561), ('AVVAV', 0.12314094825239397), ('AVVVA', 0.16012168950754058), ('AVVVV', 0.12246777528751795), ('VAAAA', 0.22635385242389316), ('VAAAV', 0.67313700408136401), ('VAAVA', 0.0077845891650307752), ('VAAVV', 0.85332822910702244), ('VAVAA', 0.11222984014148152), ('VAVAV', 0.2162935871759134), ('VAVVA', 0.78165887922536859), ('VAVVV', 0.33229155202276561), ('VVAAA', 0.78984482716469839), ('VVAAV', 0.96730866006953664), ('VVAVA', 0.80124020546413843), ('VVAVV', 0.37281726361883172), ('VVVAA', 0.22293571678406809), ('VVVAV', 0.99002300370315477), ('VVVVA', 0.1623382599683858), ('VVVVV', 0.78632394912663561)])"
      ]
     },
     "execution_count": 9,
     "metadata": {},
     "output_type": "execute_result"
    }
   ],
   "source": [
    "em.geno2pheno"
   ]
  },
  {
   "cell_type": "code",
   "execution_count": 10,
   "metadata": {
    "collapsed": false
   },
   "outputs": [
    {
     "data": {
      "text/plain": [
       "{'AAAAA': '01100',\n",
       " 'AAAAV': '01101',\n",
       " 'AAAVA': '01110',\n",
       " 'AAAVV': '01111',\n",
       " 'AAVAA': '01000',\n",
       " 'AAVAV': '01001',\n",
       " 'AAVVA': '01010',\n",
       " 'AAVVV': '01011',\n",
       " 'AVAAA': '00100',\n",
       " 'AVAAV': '00101',\n",
       " 'AVAVA': '00110',\n",
       " 'AVAVV': '00111',\n",
       " 'AVVAA': '00000',\n",
       " 'AVVAV': '00001',\n",
       " 'AVVVA': '00010',\n",
       " 'AVVVV': '00011',\n",
       " 'VAAAA': '11100',\n",
       " 'VAAAV': '11101',\n",
       " 'VAAVA': '11110',\n",
       " 'VAAVV': '11111',\n",
       " 'VAVAA': '11000',\n",
       " 'VAVAV': '11001',\n",
       " 'VAVVA': '11010',\n",
       " 'VAVVV': '11011',\n",
       " 'VVAAA': '10100',\n",
       " 'VVAAV': '10101',\n",
       " 'VVAVA': '10110',\n",
       " 'VVAVV': '10111',\n",
       " 'VVVAA': '10000',\n",
       " 'VVVAV': '10001',\n",
       " 'VVVVA': '10010',\n",
       " 'VVVVV': '10011'}"
      ]
     },
     "execution_count": 10,
     "metadata": {},
     "output_type": "execute_result"
    }
   ],
   "source": [
    "em.geno2binary"
   ]
  },
  {
   "cell_type": "markdown",
   "metadata": {},
   "source": [
    "The map correctly maps genotype to binary to phenotype. "
   ]
  },
  {
   "cell_type": "code",
   "execution_count": 11,
   "metadata": {
    "collapsed": false
   },
   "outputs": [
    {
     "name": "stdout",
     "output_type": "stream",
     "text": [
      "[ 0.95197445  0.2650221   0.15097394  0.56813948  0.47978625  0.7344945\n",
      "  0.42128445  0.91719026  0.78911775  0.55564153  0.61886246  0.90143345\n",
      "  0.77151034  0.12314095  0.16012169  0.12246778  0.22635385  0.673137\n",
      "  0.00778459  0.85332823  0.11222984  0.21629359  0.78165888  0.33229155\n",
      "  0.78984483  0.96730866  0.80124021  0.37281726  0.22293572  0.990023\n",
      "  0.16233826  0.78632395]\n",
      "[ 0.77151034  0.12314095  0.16012169  0.12246778  0.78911775  0.55564153\n",
      "  0.61886246  0.90143345  0.47978625  0.7344945   0.42128445  0.91719026\n",
      "  0.95197445  0.2650221   0.15097394  0.56813948  0.22293572  0.990023\n",
      "  0.16233826  0.78632395  0.78984483  0.96730866  0.80124021  0.37281726\n",
      "  0.11222984  0.21629359  0.78165888  0.33229155  0.22635385  0.673137\n",
      "  0.00778459  0.85332823]\n"
     ]
    },
    {
     "data": {
      "text/plain": [
       "OrderedDict([('00000', 0.77151033723779561), ('00001', 0.12314094825239397), ('00010', 0.16012168950754058), ('00011', 0.12246777528751795), ('00100', 0.78911774610496999), ('00101', 0.55564153459889565), ('00110', 0.61886246107478404), ('00111', 0.90143345070915393), ('01000', 0.47978625353393145), ('01001', 0.73449449836357128), ('01010', 0.4212844484583611), ('01011', 0.91719025609703064), ('01100', 0.95197445099250222), ('01101', 0.26502209616206762), ('01110', 0.15097394179854584), ('01111', 0.56813948256747204), ('10000', 0.22293571678406809), ('10001', 0.99002300370315477), ('10010', 0.1623382599683858), ('10011', 0.78632394912663561), ('10100', 0.78984482716469839), ('10101', 0.96730866006953664), ('10110', 0.80124020546413843), ('10111', 0.37281726361883172), ('11000', 0.11222984014148152), ('11001', 0.2162935871759134), ('11010', 0.78165887922536859), ('11011', 0.33229155202276561), ('11100', 0.22635385242389316), ('11101', 0.67313700408136401), ('11110', 0.0077845891650307752), ('11111', 0.85332822910702244)])"
      ]
     },
     "execution_count": 11,
     "metadata": {},
     "output_type": "execute_result"
    }
   ],
   "source": [
    "print em.phenotypes\n",
    "print em.bit_phenotypes\n",
    "em.bit2pheno"
   ]
  },
  {
   "cell_type": "markdown",
   "metadata": {},
   "source": [
    "## How I do use EpistasisMap?"
   ]
  },
  {
   "cell_type": "markdown",
   "metadata": {},
   "source": [
    "The main reason for an `EpistasisMap` is to efficiently map genotypes to phenotypes, to mutations, to epistatic interactions, to experimental errors, to epistatic uncertainty, etc. The main issue this object solves is storing these maps efficiently in memory, especially when the space gets *large*.\n",
    "\n",
    "### Different types of Maps\n",
    "This object builds all maps on the fly to avoid storing these objects in memory (since dictionary can have high memory costs)."
   ]
  },
  {
   "cell_type": "markdown",
   "metadata": {},
   "source": [
    "#### Genotype-Binary Map Representation"
   ]
  },
  {
   "cell_type": "code",
   "execution_count": 8,
   "metadata": {
    "collapsed": false
   },
   "outputs": [
    {
     "data": {
      "text/plain": [
       "{'AAAAA': '00000',\n",
       " 'AAAAV': '00001',\n",
       " 'AAAVA': '00010',\n",
       " 'AAAVV': '00011',\n",
       " 'AAVAA': '00100',\n",
       " 'AAVAV': '00101',\n",
       " 'AAVVA': '00110',\n",
       " 'AAVVV': '00111',\n",
       " 'AVAAA': '01000',\n",
       " 'AVAAV': '01001',\n",
       " 'AVAVA': '01010',\n",
       " 'AVAVV': '01011',\n",
       " 'AVVAA': '01100',\n",
       " 'AVVAV': '01101',\n",
       " 'AVVVA': '01110',\n",
       " 'AVVVV': '01111',\n",
       " 'VAAAA': '10000',\n",
       " 'VAAAV': '10001',\n",
       " 'VAAVA': '10010',\n",
       " 'VAAVV': '10011',\n",
       " 'VAVAA': '10100',\n",
       " 'VAVAV': '10101',\n",
       " 'VAVVA': '10110',\n",
       " 'VAVVV': '10111',\n",
       " 'VVAAA': '11000',\n",
       " 'VVAAV': '11001',\n",
       " 'VVAVA': '11010',\n",
       " 'VVAVV': '11011',\n",
       " 'VVVAA': '11100',\n",
       " 'VVVAV': '11101',\n",
       " 'VVVVA': '11110',\n",
       " 'VVVVV': '11111'}"
      ]
     },
     "execution_count": 8,
     "metadata": {},
     "output_type": "execute_result"
    }
   ],
   "source": [
    "em.geno2binary"
   ]
  },
  {
   "cell_type": "markdown",
   "metadata": {},
   "source": [
    "#### Epistastic interaction-to-value Map"
   ]
  },
  {
   "cell_type": "markdown",
   "metadata": {},
   "source": [
    "Assuming you've run an epistasis model, you can call this mapping\n",
    "\n",
    "``` \n",
    "em.key2value\n",
    "```"
   ]
  },
  {
   "cell_type": "markdown",
   "metadata": {},
   "source": [
    "#### Epistatic interaction (genotype)-to-value Map"
   ]
  },
  {
   "cell_type": "markdown",
   "metadata": {
    "collapsed": false
   },
   "source": [
    "Assuming you've run an epistasis model, you can call this mapping\n",
    "\n",
    "``` \n",
    "em.genotype2value\n",
    "```"
   ]
  },
  {
   "cell_type": "markdown",
   "metadata": {},
   "source": [
    "#### And many more! \n",
    "\n",
    "Read the docstring for more information"
   ]
  }
 ],
 "metadata": {
  "kernelspec": {
   "display_name": "Python 2",
   "language": "python",
   "name": "python2"
  },
  "language_info": {
   "codemirror_mode": {
    "name": "ipython",
    "version": 2
   },
   "file_extension": ".py",
   "mimetype": "text/x-python",
   "name": "python",
   "nbconvert_exporter": "python",
   "pygments_lexer": "ipython2",
   "version": "2.7.6"
  }
 },
 "nbformat": 4,
 "nbformat_minor": 0
}
