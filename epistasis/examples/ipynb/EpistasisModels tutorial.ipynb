{
 "cells": [
  {
   "cell_type": "markdown",
   "metadata": {},
   "source": [
    "## Demostrating Epistasis Models "
   ]
  },
  {
   "cell_type": "code",
   "execution_count": 1,
   "metadata": {
    "collapsed": false
   },
   "outputs": [],
   "source": [
    "import numpy as np\n",
    "from epistasis.core.utils import generate_binary_space"
   ]
  },
  {
   "cell_type": "markdown",
   "metadata": {},
   "source": [
    "Build a toy binary genotype-phenotype map, between two sequences, for the following example. The errors around each phenotype is 5%."
   ]
  },
  {
   "cell_type": "code",
   "execution_count": 2,
   "metadata": {
    "collapsed": false
   },
   "outputs": [],
   "source": [
    "seq1 = 'AAAAA'\n",
    "seq2 = 'VVVVV'\n",
    "genotypes = generate_binary_space(seq1,seq2)\n",
    "phenotypes = np.random.rand(len(genotypes))\n",
    "errors = phenotypes*0.05"
   ]
  },
  {
   "cell_type": "markdown",
   "metadata": {},
   "source": [
    "## The LocalEpistasisMap object"
   ]
  },
  {
   "cell_type": "code",
   "execution_count": 3,
   "metadata": {
    "collapsed": true
   },
   "outputs": [],
   "source": [
    "from epistasis.models import LocalEpistasisMap"
   ]
  },
  {
   "cell_type": "markdown",
   "metadata": {},
   "source": [
    "The `LocalEpistasisMap` object can be used to estimate epistasis in a genotype-phenotype map using the biochemical interpretation (through mutant cycles) described in this paper to the order of **highest possible interaction**.\n",
    "\n",
    "Begin by creating an instance of the `LocalEpistasisMap` and populating it with a wildtype (reference), genotypes, phenotypes, and phenotype errors. "
   ]
  },
  {
   "cell_type": "code",
   "execution_count": 4,
   "metadata": {
    "collapsed": false
   },
   "outputs": [],
   "source": [
    "epistasis = LocalEpistasisMap(seq1, genotypes, phenotypes, phenotype_errors=errors, log_phenotypes=True)"
   ]
  },
  {
   "cell_type": "markdown",
   "metadata": {},
   "source": [
    "The epistasis hasn't been estimated yet; the map has just been created. The following method estimates all interactions epistasis."
   ]
  },
  {
   "cell_type": "code",
   "execution_count": 5,
   "metadata": {
    "collapsed": false
   },
   "outputs": [
    {
     "name": "stdout",
     "output_type": "stream",
     "text": [
      "[-3.53510213  3.02994706  2.85975562  3.16614779  2.64785991  1.73472244\n",
      " -4.98431684 -2.73022888 -2.42549958 -2.55080728 -2.93872584 -2.50492485\n",
      " -1.68815484 -3.79969176 -2.36576562 -1.37113474  5.11300624  3.20079947\n",
      "  4.42522438  3.36146823  3.0528355   2.29071594  3.74685763  1.60298979\n",
      "  1.68806062  3.29075669 -5.66819022 -4.43341093 -3.27633876 -4.2948596\n",
      " -2.82277982  3.66465369]\n",
      "OrderedDict([('A0V', -3.5351021339493016), ('A1V', 3.0299470583241592), ('A2V', 2.8597556170112979), ('A3V', 3.1661477910959692), ('A4V', 2.6478599109877803), ('A5V', 1.7347224372136316), ('A1V,A2V', -4.9843168399163096), ('A1V,A3V', -2.7302288809657185), ('A1V,A4V', -2.4254995750735513), ('A1V,A5V', -2.5508072844109839), ('A2V,A3V', -2.938725837023334), ('A2V,A4V', -2.5049248546126495), ('A2V,A5V', -1.6881548412981047), ('A3V,A4V', -3.7996917603454041), ('A3V,A5V', -2.3657656168002945), ('A4V,A5V', -1.3711347382588173), ('A1V,A2V,A3V', 5.1130062436415207), ('A1V,A2V,A4V', 3.2007994742014545), ('A1V,A2V,A5V', 4.4252243788473784), ('A1V,A3V,A4V', 3.3614682299522083), ('A1V,A3V,A5V', 3.0528355036549599), ('A1V,A4V,A5V', 2.2907159361128544), ('A2V,A3V,A4V', 3.7468576291741602), ('A2V,A3V,A5V', 1.6029897933783788), ('A2V,A4V,A5V', 1.6880606243339891), ('A3V,A4V,A5V', 3.2907566924574367), ('A1V,A2V,A3V,A4V', -5.6681902163180133), ('A1V,A2V,A3V,A5V', -4.4334109285536618), ('A1V,A2V,A4V,A5V', -3.2763387610326893), ('A1V,A3V,A4V,A5V', -4.294859595795355), ('A2V,A3V,A4V,A5V', -2.8227798219411797), ('A1V,A2V,A3V,A4V,A5V', 3.6646536883502403)])\n"
     ]
    }
   ],
   "source": [
    "epistasis.estimate_interactions()\n",
    "print epistasis.interaction_values\n",
    "print epistasis.genotype2value"
   ]
  },
  {
   "cell_type": "code",
   "execution_count": 7,
   "metadata": {
    "collapsed": false
   },
   "outputs": [
    {
     "name": "stdout",
     "output_type": "stream",
     "text": [
      "[ 0.00145779  0.01845169  0.03460357  0.0542027   0.02965345  0.0493949\n",
      "  0.04814842  0.07672552  0.02064103  0.04224978  0.05834908  0.07860527\n",
      "  0.04653199  0.07529022  0.08246807  0.1116243   0.00838943  0.0334603\n",
      "  0.04374147  0.07775849  0.05018806  0.0834683   0.07969991  0.12661363\n",
      "  0.02477315  0.0640596   0.06646717  0.11579705  0.06952989  0.11680476\n",
      "  0.11010883  0.16950515]\n",
      "OrderedDict([('A0V', 0.0014577889521233236), ('A1V', 0.018451694589685878), ('A2V', 0.034603569693133621), ('A3V', 0.054202703018058226), ('A4V', 0.029653445936757564), ('A5V', 0.049394895193730963), ('A1V,A2V', 0.048148420074174296), ('A1V,A3V', 0.076725518531560427), ('A1V,A4V', 0.020641033729097282), ('A1V,A5V', 0.042249782540343409), ('A2V,A3V', 0.058349077889035122), ('A2V,A4V', 0.078605269986313633), ('A2V,A5V', 0.04653199158840049), ('A3V,A4V', 0.075290224741280998), ('A3V,A5V', 0.082468073475816681), ('A4V,A5V', 0.11162430240033376), ('A1V,A2V,A3V', 0.0083894338782383743), ('A1V,A2V,A4V', 0.033460297187912671), ('A1V,A2V,A5V', 0.043741469330466777), ('A1V,A3V,A4V', 0.077758491663730181), ('A1V,A3V,A5V', 0.050188058802479452), ('A1V,A4V,A5V', 0.08346830188234676), ('A2V,A3V,A4V', 0.079699914789714235), ('A2V,A3V,A5V', 0.12661363451448324), ('A2V,A4V,A5V', 0.024773151999247241), ('A3V,A4V,A5V', 0.064059604556791161), ('A1V,A2V,A3V,A4V', 0.066467169627163286), ('A1V,A2V,A3V,A5V', 0.11579705203622555), ('A1V,A2V,A4V,A5V', 0.069529886029768825), ('A1V,A3V,A4V,A5V', 0.11680476392789645), ('A2V,A3V,A4V,A5V', 0.11010882838464223), ('A1V,A2V,A3V,A4V,A5V', 0.16950515146709835)])\n"
     ]
    }
   ],
   "source": [
    "epistasis.estimate_error()\n",
    "print epistasis.interaction_errors\n",
    "print epistasis.genotype2error"
   ]
  }
 ],
 "metadata": {
  "kernelspec": {
   "display_name": "Python 2",
   "language": "python",
   "name": "python2"
  },
  "language_info": {
   "codemirror_mode": {
    "name": "ipython",
    "version": 2
   },
   "file_extension": ".py",
   "mimetype": "text/x-python",
   "name": "python",
   "nbconvert_exporter": "python",
   "pygments_lexer": "ipython2",
   "version": "2.7.6"
  }
 },
 "nbformat": 4,
 "nbformat_minor": 0
}
