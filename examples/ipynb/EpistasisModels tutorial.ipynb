{
 "cells": [
  {
   "cell_type": "markdown",
   "metadata": {},
   "source": [
    "# Demostrating Epistasis Models "
   ]
  },
  {
   "cell_type": "code",
   "execution_count": 1,
   "metadata": {
    "collapsed": false
   },
   "outputs": [],
   "source": [
    "import numpy as np\n",
    "from epistasis.utils import enumerate_space"
   ]
  },
  {
   "cell_type": "markdown",
   "metadata": {},
   "source": [
    "\n",
    "Build a toy binary genotype-phenotype map, between two sequences, for the following example. The errors around each phenotype is 5%."
   ]
  },
  {
   "cell_type": "code",
   "execution_count": 2,
   "metadata": {
    "collapsed": false
   },
   "outputs": [],
   "source": [
    "seq1 = 'AAAAA'\n",
    "seq2 = 'VVVVV'\n",
    "genotypes, binary = enumerate_space(seq1,seq2)\n",
    "phenotypes = np.random.rand(len(genotypes))\n",
    "errors = phenotypes*0.05"
   ]
  },
  {
   "cell_type": "markdown",
   "metadata": {},
   "source": [
    "## The LocalEpistasisMap object"
   ]
  },
  {
   "cell_type": "code",
   "execution_count": 5,
   "metadata": {
    "collapsed": false
   },
   "outputs": [],
   "source": [
    "from epistasis.models import LocalEpistasisModel"
   ]
  },
  {
   "cell_type": "markdown",
   "metadata": {},
   "source": [
    "The `LocalEpistasisMap` object can be used to estimate epistasis in a genotype-phenotype map using the biochemical interpretation (through mutant cycles) described in this paper to the order of **highest possible interaction**.\n",
    "\n",
    "Begin by creating an instance of the `LocalEpistasisMap` and populating it with a wildtype (reference), genotypes, phenotypes, and phenotype errors. "
   ]
  },
  {
   "cell_type": "code",
   "execution_count": 6,
   "metadata": {
    "collapsed": false
   },
   "outputs": [],
   "source": [
    "epistasis = LocalEpistasisModel(seq1, genotypes, phenotypes, errors=errors, log_transform=True)"
   ]
  },
  {
   "cell_type": "markdown",
   "metadata": {},
   "source": [
    "The epistasis hasn't been estimated yet; the map has just been created. The following method estimates all interactions epistasis."
   ]
  },
  {
   "cell_type": "code",
   "execution_count": 7,
   "metadata": {
    "collapsed": false
   },
   "outputs": [
    {
     "name": "stdout",
     "output_type": "stream",
     "text": [
      "[-0.58939668  0.49493484  0.30488351 -0.04522127  0.36977517 -0.03140504\n",
      " -0.4524896  -2.32089316 -1.14005123 -0.23809489 -0.04688585 -1.09068813\n",
      " -1.03396845 -0.47880953  0.14233319 -0.14126777  2.51790296  1.92941566\n",
      "  1.53345397  3.45130466  2.5352127   1.20610516  0.59949003  0.83463587\n",
      "  1.90800003 -0.25553262 -4.46189906 -3.84718995 -3.41868379 -4.08932823\n",
      " -0.89133221  6.34280465]\n",
      "{'4': -0.031405043014141487, '0,2,3': 3.4513046611147464, '0,1,2': 2.5179029647657565, '0,3': -1.1400512292149316, '2,4': 0.14233319288749924, '1,2,3,4': -0.89133220555287274, '2,3,4': -0.25553262287706735, '0,2,4': 2.5352127007718135, '0,3,4': 1.2061051588034688, '0,1': -0.45248960052690546, '0,1,4': 1.5334539688710689, '0,1,3,4': -3.418683785307441, '1': 0.30488350731167141, '1,3': -1.0906881338381214, '2': -0.045221266890141609, '0,4': -0.23809488940273721, '3,4': -0.1412677680021103, '0,1,3': 1.9294156572988659, '0': 0.49493483629994206, '0,1,2,4': -3.8471899516810977, '1,4': -1.0339684527290056, '1,2,4': 0.83463587091004432, '3': 0.36977516947763722, '1,2,3': 0.59949003248527633, '2,3': -0.47880953487213085, '1,2': -0.046885848549056031, '0,2,3,4': -4.089328231224771, '1,3,4': 1.908000028540707, '0,1,2,3': -4.4618990624833286, '0,1,2,3,4': 6.3428046546391013, '0,2': -2.3208931595441888}\n"
     ]
    }
   ],
   "source": [
    "epistasis.fit()\n",
    "epistasis.fit_error()\n",
    "print(epistasis.Interactions.values)\n",
    "print(epistasis.get_map(\"Interactions.keys\", \"Interactions.values\"))"
   ]
  },
  {
   "cell_type": "code",
   "execution_count": 8,
   "metadata": {
    "collapsed": false
   },
   "outputs": [
    {
     "name": "stdout",
     "output_type": "stream",
     "text": [
      "[[ 0.03292995  0.04656998  0.04656998  0.04656998  0.04656998  0.04656998\n",
      "   0.06585989  0.06585989  0.06585989  0.06585989  0.06585989  0.06585989\n",
      "   0.06585989  0.06585989  0.06585989  0.06585989  0.09313995  0.09313995\n",
      "   0.09313995  0.09313995  0.09313995  0.09313995  0.09313995  0.09313995\n",
      "   0.09313995  0.09313995  0.13171978  0.13171978  0.13171978  0.13171978\n",
      "   0.13171978  0.1862799 ]\n",
      " [ 0.03292995  0.04656998  0.04656998  0.04656998  0.04656998  0.04656998\n",
      "   0.06585989  0.06585989  0.06585989  0.06585989  0.06585989  0.06585989\n",
      "   0.06585989  0.06585989  0.06585989  0.06585989  0.09313995  0.09313995\n",
      "   0.09313995  0.09313995  0.09313995  0.09313995  0.09313995  0.09313995\n",
      "   0.09313995  0.09313995  0.13171978  0.13171978  0.13171978  0.13171978\n",
      "   0.13171978  0.1862799 ]]\n",
      "{'AAAAA': array([-0.03292995, -0.03292995, -0.03292995, -0.03292995, -0.03292995,\n",
      "       -0.03292995, -0.03292995, -0.03292995, -0.03292995, -0.03292995,\n",
      "       -0.03292995, -0.03292995, -0.03292995, -0.03292995, -0.03292995,\n",
      "       -0.03292995, -0.03292995, -0.03292995, -0.03292995, -0.03292995,\n",
      "       -0.03292995, -0.03292995, -0.03292995, -0.03292995, -0.03292995,\n",
      "       -0.03292995, -0.03292995, -0.03292995, -0.03292995, -0.03292995,\n",
      "       -0.03292995, -0.03292995]), 'AAAAV': array([ 0.03292995,  0.03292995,  0.03292995,  0.03292995,  0.03292995,\n",
      "        0.03292995,  0.03292995,  0.03292995,  0.03292995,  0.03292995,\n",
      "        0.03292995,  0.03292995,  0.03292995,  0.03292995,  0.03292995,\n",
      "        0.03292995,  0.03292995,  0.03292995,  0.03292995,  0.03292995,\n",
      "        0.03292995,  0.03292995,  0.03292995,  0.03292995,  0.03292995,\n",
      "        0.03292995,  0.03292995,  0.03292995,  0.03292995,  0.03292995,\n",
      "        0.03292995,  0.03292995])}\n"
     ]
    }
   ],
   "source": [
    "print(epistasis.Interactions.errors)\n",
    "print(epistasis.get_map(\"genotypes\", \"errors\"))"
   ]
  },
  {
   "cell_type": "markdown",
   "metadata": {},
   "source": [
    "## Plotting the output from Epistasis Models \n",
    "\n",
    "The `epistasis` package has build-in matplotlib plotting functions. This demostrates one of the methods."
   ]
  },
  {
   "cell_type": "code",
   "execution_count": 9,
   "metadata": {
    "collapsed": false
   },
   "outputs": [],
   "source": [
    "%matplotlib inline\n",
    "from epistasis.plotting import epistasis_bar"
   ]
  },
  {
   "cell_type": "code",
   "execution_count": 10,
   "metadata": {
    "collapsed": false
   },
   "outputs": [
    {
     "data": {
      "text/plain": [
       "(<matplotlib.figure.Figure at 0x109429978>,\n",
       " <matplotlib.axes._subplots.AxesSubplot at 0x10a9323c8>)"
      ]
     },
     "execution_count": 10,
     "metadata": {},
     "output_type": "execute_result"
    },
    {
     "data": {
      "image/png": "[encoded data removed]",
      "text/plain": [
       "<matplotlib.figure.Figure at 0x109429978>"
      ]
     },
     "metadata": {},
     "output_type": "display_data"
    }
   ],
   "source": [
    "epistasis_bar(epistasis, sigmas=2)"
   ]
  },
  {
   "cell_type": "markdown",
   "metadata": {},
   "source": [
    "# Other Epistasis Models\n",
    "\n",
    "Three different models for estimating epistasis in a genotype-phenotype map are included in the epistasis package. We've already seen the *local epistasis model*. Let's see the other types:"
   ]
  },
  {
   "cell_type": "markdown",
   "metadata": {},
   "source": [
    "## GlobalEpistasisMap"
   ]
  },
  {
   "cell_type": "code",
   "execution_count": 11,
   "metadata": {
    "collapsed": false
   },
   "outputs": [],
   "source": [
    "from epistasis.models import GlobalEpistasisModel"
   ]
  },
  {
   "cell_type": "markdown",
   "metadata": {},
   "source": [
    "The *global epistasis map* uses a Discrete Fourier Transformation of the mutation map, and determines the global average of phenotypes for the reference state. Epistatic interactions are deviations from the additive (or multiplicative) model from this reference state."
   ]
  },
  {
   "cell_type": "code",
   "execution_count": 12,
   "metadata": {
    "collapsed": false
   },
   "outputs": [
    {
     "data": {
      "text/plain": [
       "(<matplotlib.figure.Figure at 0x10a787828>,\n",
       " <matplotlib.axes._subplots.AxesSubplot at 0x10aea4be0>)"
      ]
     },
     "execution_count": 12,
     "metadata": {},
     "output_type": "execute_result"
    },
    {
     "data": {
      "image/png": "[encoded data removed]",
      "text/plain": [
       "<matplotlib.figure.Figure at 0x10a787828>"
      ]
     },
     "metadata": {},
     "output_type": "display_data"
    }
   ],
   "source": [
    "epistasis = GlobalEpistasisModel(seq1, genotypes, phenotypes, errors=errors, log_transform=True)\n",
    "epistasis.fit()\n",
    "epistasis.fit_error()\n",
    "epistasis_bar(epistasis, sigmas=2)"
   ]
  },
  {
   "cell_type": "markdown",
   "metadata": {},
   "source": [
    "## ProjectedEpistasisMap"
   ]
  },
  {
   "cell_type": "code",
   "execution_count": 13,
   "metadata": {
    "collapsed": false
   },
   "outputs": [],
   "source": [
    "from epistasis.models import ProjectedEpistasisModel"
   ]
  },
  {
   "cell_type": "markdown",
   "metadata": {},
   "source": [
    "The *projected epistasis map* is the same model as the local epistasis map; however, it attempts to estimate lower order interactions from a high ordered space, using a lower order (any order, actually) model. This is useful for modeling very large spaces that might be too large for a full-order fit. The first argument is the order of the fit. "
   ]
  },
  {
   "cell_type": "code",
   "execution_count": 16,
   "metadata": {
    "collapsed": false
   },
   "outputs": [
    {
     "data": {
      "text/plain": [
       "(<matplotlib.figure.Figure at 0x10b0d8160>,\n",
       " <matplotlib.axes._subplots.AxesSubplot at 0x10b14e438>)"
      ]
     },
     "execution_count": 16,
     "metadata": {},
     "output_type": "execute_result"
    },
    {
     "data": {
      "image/png": "[encoded data removed]",
      "text/plain": [
       "<matplotlib.figure.Figure at 0x10b0d8160>"
      ]
     },
     "metadata": {},
     "output_type": "display_data"
    }
   ],
   "source": [
    "regression_order = 3\n",
    "epistasis = ProjectedEpistasisModel(seq1, genotypes, phenotypes, regression_order,\n",
    "                                    errors=errors, log_transform=True)\n",
    "epistasis.fit()\n",
    "epistasis.fit_error()\n",
    "epistasis_bar(epistasis)"
   ]
  },
  {
   "cell_type": "markdown",
   "metadata": {},
   "source": [
    "# Some comments about the Epistasis Models\n",
    "\n",
    "The Epistasis models inherit the core `EpistasisMap` object, so you can access all the attributes from that object as well. This enables you to easily map between different properties of the space; for example, map epistatic index to gentype, to their value."
   ]
  }
 ],
 "metadata": {
  "kernelspec": {
   "display_name": "Python 3",
   "language": "python",
   "name": "python3"
  },
  "language_info": {
   "codemirror_mode": {
    "name": "ipython",
    "version": 3
   },
   "file_extension": ".py",
   "mimetype": "text/x-python",
   "name": "python",
   "nbconvert_exporter": "python",
   "pygments_lexer": "ipython3",
   "version": "3.4.3"
  }
 },
 "nbformat": 4,
 "nbformat_minor": 0
}
