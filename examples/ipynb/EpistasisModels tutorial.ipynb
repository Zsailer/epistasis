{
 "cells": [
  {
   "cell_type": "markdown",
   "metadata": {},
   "source": [
    "# Demostrating Epistasis Models "
   ]
  },
  {
   "cell_type": "markdown",
   "metadata": {},
   "source": [
    "\n",
    "Build a toy binary genotype-phenotype map, between two sequences, for the following example. The errors around each phenotype is 5%."
   ]
  },
  {
   "cell_type": "code",
   "execution_count": 2,
   "metadata": {
    "collapsed": false
   },
   "outputs": [],
   "source": [
    "seq1 = 'AAAAA'\n",
    "seq2 = 'VVVVV'\n",
    "genotypes, binary = enumerate_space(seq1,seq2)\n",
    "phenotypes = np.random.rand(len(genotypes))\n",
    "errors = phenotypes*0.05"
   ]
  },
  {
   "cell_type": "markdown",
   "metadata": {},
   "source": [
    "## The LocalEpistasisMap object"
   ]
  },
  {
   "cell_type": "code",
   "execution_count": 4,
   "metadata": {
    "collapsed": false
   },
   "outputs": [],
   "source": [
    "from epistasis.models import LocalEpistasisModel"
   ]
  },
  {
   "cell_type": "markdown",
   "metadata": {},
   "source": [
    "The `LocalEpistasisMap` object can be used to estimate epistasis in a genotype-phenotype map using the biochemical interpretation (through mutant cycles) described in this paper to the order of **highest possible interaction**.\n",
    "\n",
    "Begin by creating an instance of the `LocalEpistasisMap` and populating it with a wildtype (reference), genotypes, phenotypes, and phenotype errors. "
   ]
  },
  {
   "cell_type": "code",
   "execution_count": 5,
   "metadata": {
    "collapsed": false
   },
   "outputs": [],
   "source": [
    "epistasis = LocalEpistasisModel(seq1, genotypes, phenotypes, errors=errors, log_transform=True)"
   ]
  },
  {
   "cell_type": "markdown",
   "metadata": {},
   "source": [
    "The epistasis hasn't been estimated yet; the map has just been created. The following method estimates all interactions epistasis."
   ]
  },
  {
   "cell_type": "code",
   "execution_count": 6,
   "metadata": {
    "collapsed": false
   },
   "outputs": [
    {
     "name": "stdout",
     "output_type": "stream",
     "text": [
      "[-0.03720791 -0.44829395 -1.61719685 -0.97221753 -0.32009336 -0.40191574\n",
      "  1.87526128  0.75995413  0.52264072  0.72717416  2.45286441  1.97053755\n",
      "  1.69608341  1.28008367 -0.35542217  0.4864618  -3.05136822 -2.29291802\n",
      " -2.05293219 -0.85683432  0.09334472 -0.79530364 -3.07568884 -1.31155869\n",
      " -4.24423474  0.23578164  3.34936024  2.45167792  4.03045822 -0.24091696\n",
      "  3.99658265 -4.17022342]\n",
      "{'1,4': 0.5226407241527864, '1,2,5': -2.0529321941411025, '1,5': 0.72717416245810773, '2': -1.6171968506413554, '3,5': -0.35542217199728965, '1,2,3,5': 2.4516779214289732, '1,2,4,5': 4.0304582157656235, '3': -0.97221752712697906, '1,2,3,4': 3.3493602425011249, '5': -0.40191574058076396, '2,4,5': -4.2442347401042522, '0': -0.037207911145196372, '4': -0.32009335592933008, '1,2': 1.8752612767639929, '2,3,4': -3.0756888414921724, '4,5': 0.48646179892133395, '1,2,3,4,5': -4.1702234184344418, '2,3,5': -1.3115586889585849, '2,5': 1.6960834102649212, '3,4': 1.2800836650276637, '1,3,4': -0.85683431765070617, '2,3,4,5': 3.9965826528367829, '1,2,3': -3.0513682227285939, '1,3,5': 0.093344719516940788, '1,4,5': -0.79530363734759058, '1,3,4,5': -0.24091695722111256, '1,3': 0.75995412834430898, '1': -0.44829394747010354, '3,4,5': 0.23578163763250298, '2,3': 2.4528644097007919, '1,2,4': -2.2929180222819765, '2,4': 1.9705375469074016}\n"
     ]
    }
   ],
   "source": [
    "epistasis.fit()\n",
    "epistasis.fit_error()\n",
    "print(epistasis.Interactions.values)\n",
    "print(epistasis.get_map(\"Interactions.keys\", \"Interactions.values\"))"
   ]
  },
  {
   "cell_type": "code",
   "execution_count": 7,
   "metadata": {
    "collapsed": false
   },
   "outputs": [
    {
     "name": "stdout",
     "output_type": "stream",
     "text": [
      "[[ 0.03292995  0.04656998  0.04656998  0.04656998  0.04656998  0.04656998\n",
      "   0.06585989  0.06585989  0.06585989  0.06585989  0.06585989  0.06585989\n",
      "   0.06585989  0.06585989  0.06585989  0.06585989  0.09313995  0.09313995\n",
      "   0.09313995  0.09313995  0.09313995  0.09313995  0.09313995  0.09313995\n",
      "   0.09313995  0.09313995  0.13171978  0.13171978  0.13171978  0.13171978\n",
      "   0.13171978  0.1862799 ]\n",
      " [ 0.03292995  0.04656998  0.04656998  0.04656998  0.04656998  0.04656998\n",
      "   0.06585989  0.06585989  0.06585989  0.06585989  0.06585989  0.06585989\n",
      "   0.06585989  0.06585989  0.06585989  0.06585989  0.09313995  0.09313995\n",
      "   0.09313995  0.09313995  0.09313995  0.09313995  0.09313995  0.09313995\n",
      "   0.09313995  0.09313995  0.13171978  0.13171978  0.13171978  0.13171978\n",
      "   0.13171978  0.1862799 ]]\n",
      "{'AAAAV': array([ 0.03292995,  0.03292995,  0.03292995,  0.03292995,  0.03292995,\n",
      "        0.03292995,  0.03292995,  0.03292995,  0.03292995,  0.03292995,\n",
      "        0.03292995,  0.03292995,  0.03292995,  0.03292995,  0.03292995,\n",
      "        0.03292995,  0.03292995,  0.03292995,  0.03292995,  0.03292995,\n",
      "        0.03292995,  0.03292995,  0.03292995,  0.03292995,  0.03292995,\n",
      "        0.03292995,  0.03292995,  0.03292995,  0.03292995,  0.03292995,\n",
      "        0.03292995,  0.03292995]), 'AAAAA': array([-0.03292995, -0.03292995, -0.03292995, -0.03292995, -0.03292995,\n",
      "       -0.03292995, -0.03292995, -0.03292995, -0.03292995, -0.03292995,\n",
      "       -0.03292995, -0.03292995, -0.03292995, -0.03292995, -0.03292995,\n",
      "       -0.03292995, -0.03292995, -0.03292995, -0.03292995, -0.03292995,\n",
      "       -0.03292995, -0.03292995, -0.03292995, -0.03292995, -0.03292995,\n",
      "       -0.03292995, -0.03292995, -0.03292995, -0.03292995, -0.03292995,\n",
      "       -0.03292995, -0.03292995])}\n"
     ]
    }
   ],
   "source": [
    "print(epistasis.Interactions.errors)\n",
    "print(epistasis.get_map(\"genotypes\", \"errors\"))"
   ]
  },
  {
   "cell_type": "markdown",
   "metadata": {},
   "source": [
    "## Plotting the output from Epistasis Models \n",
    "\n",
    "The `epistasis` package has build-in matplotlib plotting functions. This demostrates one of the methods."
   ]
  },
  {
   "cell_type": "code",
   "execution_count": 8,
   "metadata": {
    "collapsed": false
   },
   "outputs": [],
   "source": [
    "%matplotlib inline\n",
    "from epistasis.plotting import epistasis_bar"
   ]
  },
  {
   "cell_type": "code",
   "execution_count": 10,
   "metadata": {
    "collapsed": false
   },
   "outputs": [
    {
     "data": {
      "text/plain": [
       "(<matplotlib.figure.Figure at 0x7f7caed2d2e8>,\n",
       " <matplotlib.axes._subplots.AxesSubplot at 0x7f7caeecff60>)"
      ]
     },
     "execution_count": 10,
     "metadata": {},
     "output_type": "execute_result"
    },
    {
     "name": "stderr",
     "output_type": "stream",
     "text": [
      "/home/zsailer/virtual/py3/lib/python3.5/site-packages/matplotlib/collections.py:590: FutureWarning: elementwise comparison failed; returning scalar instead, but in the future will perform elementwise comparison\n",
      "  if self._edgecolors == str('face'):\n"
     ]
    },
    {
     "data": {
      "image/png": "[encoded data removed]",
      "text/plain": [
       "<matplotlib.figure.Figure at 0x7f7caed2d2e8>"
      ]
     },
     "metadata": {},
     "output_type": "display_data"
    }
   ],
   "source": [
    "epistasis_bar(epistasis, sigmas=2)"
   ]
  },
  {
   "cell_type": "markdown",
   "metadata": {},
   "source": [
    "# Other Epistasis Models\n",
    "\n",
    "Three different models for estimating epistasis in a genotype-phenotype map are included in the epistasis package. We've already seen the *local epistasis model*. Let's see the other types:"
   ]
  },
  {
   "cell_type": "markdown",
   "metadata": {},
   "source": [
    "## GlobalEpistasisMap"
   ]
  },
  {
   "cell_type": "code",
   "execution_count": 11,
   "metadata": {
    "collapsed": false
   },
   "outputs": [],
   "source": [
    "from epistasis.models import GlobalEpistasisModel"
   ]
  },
  {
   "cell_type": "markdown",
   "metadata": {},
   "source": [
    "The *global epistasis map* uses a Discrete Fourier Transformation of the mutation map, and determines the global average of phenotypes for the reference state. Epistatic interactions are deviations from the additive (or multiplicative) model from this reference state."
   ]
  },
  {
   "cell_type": "code",
   "execution_count": 12,
   "metadata": {
    "collapsed": false
   },
   "outputs": [
    {
     "data": {
      "text/plain": [
       "(<matplotlib.figure.Figure at 0x7f7caeefc6d8>,\n",
       " <matplotlib.axes._subplots.AxesSubplot at 0x7f7caed2db70>)"
      ]
     },
     "execution_count": 12,
     "metadata": {},
     "output_type": "execute_result"
    },
    {
     "name": "stderr",
     "output_type": "stream",
     "text": [
      "/home/zsailer/virtual/py3/lib/python3.5/site-packages/matplotlib/collections.py:590: FutureWarning: elementwise comparison failed; returning scalar instead, but in the future will perform elementwise comparison\n",
      "  if self._edgecolors == str('face'):\n"
     ]
    },
    {
     "data": {
      "image/png": "[encoded data removed]",
      "text/plain": [
       "<matplotlib.figure.Figure at 0x7f7caeefc6d8>"
      ]
     },
     "metadata": {},
     "output_type": "display_data"
    }
   ],
   "source": [
    "epistasis = GlobalEpistasisModel(seq1, genotypes, phenotypes, errors=errors, log_transform=True)\n",
    "epistasis.fit()\n",
    "epistasis.fit_error()\n",
    "epistasis_bar(epistasis, sigmas=2)"
   ]
  },
  {
   "cell_type": "markdown",
   "metadata": {},
   "source": [
    "## ProjectedEpistasisMap"
   ]
  },
  {
   "cell_type": "code",
   "execution_count": 13,
   "metadata": {
    "collapsed": false
   },
   "outputs": [],
   "source": [
    "from epistasis.models import ProjectedEpistasisModel"
   ]
  },
  {
   "cell_type": "markdown",
   "metadata": {},
   "source": [
    "The *projected epistasis map* is the same model as the local epistasis map; however, it attempts to estimate lower order interactions from a high ordered space, using a lower order (any order, actually) model. This is useful for modeling very large spaces that might be too large for a full-order fit. The first argument is the order of the fit. "
   ]
  },
  {
   "cell_type": "code",
   "execution_count": 15,
   "metadata": {
    "collapsed": false,
    "scrolled": true
   },
   "outputs": [
    {
     "data": {
      "text/plain": [
       "(<matplotlib.figure.Figure at 0x7f7caeb2bc88>,\n",
       " <matplotlib.axes._subplots.AxesSubplot at 0x7f7caeae02b0>)"
      ]
     },
     "execution_count": 15,
     "metadata": {},
     "output_type": "execute_result"
    },
    {
     "name": "stderr",
     "output_type": "stream",
     "text": [
      "/home/zsailer/virtual/py3/lib/python3.5/site-packages/matplotlib/collections.py:590: FutureWarning: elementwise comparison failed; returning scalar instead, but in the future will perform elementwise comparison\n",
      "  if self._edgecolors == str('face'):\n"
     ]
    },
    {
     "data": {
      "image/png": "[encoded data removed]",
      "text/plain": [
       "<matplotlib.figure.Figure at 0x7f7caeb2bc88>"
      ]
     },
     "metadata": {},
     "output_type": "display_data"
    }
   ],
   "source": [
    "regression_order = 3\n",
    "epistasis = ProjectedEpistasisModel(seq1, genotypes, phenotypes, regression_order,\n",
    "                                    errors=errors, log_transform=True)\n",
    "epistasis.fit()\n",
    "epistasis.fit_error()\n",
    "epistasis_bar(epistasis)"
   ]
  },
  {
   "cell_type": "markdown",
   "metadata": {},
   "source": [
    "# Some comments about the Epistasis Models\n",
    "\n",
    "The Epistasis models inherit the core `EpistasisMap` object, so you can access all the attributes from that object as well. This enables you to easily map between different properties of the space; for example, map epistatic index to gentype, to their value."
   ]
  },
  {
   "cell_type": "code",
   "execution_count": null,
   "metadata": {
    "collapsed": true
   },
   "outputs": [],
   "source": []
  }
 ],
 "metadata": {
  "kernelspec": {
   "display_name": "Python 3",
   "language": "python",
   "name": "python3"
  },
  "language_info": {
   "codemirror_mode": {
    "name": "ipython",
    "version": 3
   },
   "file_extension": ".py",
   "mimetype": "text/x-python",
   "name": "python",
   "nbconvert_exporter": "python",
   "pygments_lexer": "ipython3",
   "version": "3.5.0"
  },
  "widgets": {
   "state": {},
   "version": "1.1.1"
  }
 },
 "nbformat": 4,
 "nbformat_minor": 0
}
