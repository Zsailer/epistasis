{
 "cells": [
  {
   "cell_type": "markdown",
   "metadata": {},
   "source": [
    "# Demostrating Epistasis Models "
   ]
  },
  {
   "cell_type": "code",
   "execution_count": 1,
   "metadata": {
    "collapsed": false
   },
   "outputs": [],
   "source": [
    "import numpy as np\n",
    "from epistasis.core.utils import generate_binary_space"
   ]
  },
  {
   "cell_type": "markdown",
   "metadata": {},
   "source": [
    "Build a toy binary genotype-phenotype map, between two sequences, for the following example. The errors around each phenotype is 5%."
   ]
  },
  {
   "cell_type": "code",
   "execution_count": 2,
   "metadata": {
    "collapsed": false
   },
   "outputs": [],
   "source": [
    "seq1 = 'AAAAA'\n",
    "seq2 = 'VVVVV'\n",
    "genotypes = generate_binary_space(seq1,seq2)\n",
    "phenotypes = np.random.rand(len(genotypes))\n",
    "errors = phenotypes*0.05"
   ]
  },
  {
   "cell_type": "markdown",
   "metadata": {},
   "source": [
    "## The LocalEpistasisMap object"
   ]
  },
  {
   "cell_type": "code",
   "execution_count": 3,
   "metadata": {
    "collapsed": true
   },
   "outputs": [],
   "source": [
    "from epistasis.models import LocalEpistasisMap"
   ]
  },
  {
   "cell_type": "markdown",
   "metadata": {},
   "source": [
    "The `LocalEpistasisMap` object can be used to estimate epistasis in a genotype-phenotype map using the biochemical interpretation (through mutant cycles) described in this paper to the order of **highest possible interaction**.\n",
    "\n",
    "Begin by creating an instance of the `LocalEpistasisMap` and populating it with a wildtype (reference), genotypes, phenotypes, and phenotype errors. "
   ]
  },
  {
   "cell_type": "code",
   "execution_count": 4,
   "metadata": {
    "collapsed": false
   },
   "outputs": [],
   "source": [
    "epistasis = LocalEpistasisMap(seq1, genotypes, phenotypes, phenotype_errors=errors, log_phenotypes=True)"
   ]
  },
  {
   "cell_type": "markdown",
   "metadata": {},
   "source": [
    "The epistasis hasn't been estimated yet; the map has just been created. The following method estimates all interactions epistasis."
   ]
  },
  {
   "cell_type": "code",
   "execution_count": 5,
   "metadata": {
    "collapsed": false
   },
   "outputs": [
    {
     "name": "stdout",
     "output_type": "stream",
     "text": [
      "[-1.96748344  1.12254241  1.44831531  1.58022312  0.78695974  1.82865026\n",
      " -1.14316251 -1.59995034 -1.16073126 -1.03297933 -2.51384415 -1.14982293\n",
      " -1.40491612 -0.42939878 -2.76909088 -1.42534392  2.06225026 -0.6070005\n",
      "  0.81952337  0.10265711  2.67946779  0.97364178  2.09031766  2.35421618\n",
      " -1.77239903  0.74241497  0.50285258 -1.53434054  4.32655821  0.43576934\n",
      "  1.92251165 -6.65724567]\n",
      "OrderedDict([('A0V', -1.9674834395467893), ('A1V', 1.1225424057518947), ('A2V', 1.4483153087754026), ('A3V', 1.5802231195573104), ('A4V', 0.78695973637843819), ('A5V', 1.8286502588452247), ('A1V,A2V', -1.1431625122056728), ('A1V,A3V', -1.5999503410716809), ('A1V,A4V', -1.1607312557985314), ('A1V,A5V', -1.0329793272589936), ('A2V,A3V', -2.5138441539045688), ('A2V,A4V', -1.1498229256012935), ('A2V,A5V', -1.4049161244009187), ('A3V,A4V', -0.42939878234463302), ('A3V,A5V', -2.7690908767173799), ('A4V,A5V', -1.4253439181312153), ('A1V,A2V,A3V', 2.0622502579837985), ('A1V,A2V,A4V', -0.60700049703279391), ('A1V,A2V,A5V', 0.81952336985940066), ('A1V,A3V,A4V', 0.10265711340573902), ('A1V,A3V,A5V', 2.6794677905805324), ('A1V,A4V,A5V', 0.97364177682036535), ('A2V,A3V,A4V', 2.0903176567545998), ('A2V,A3V,A5V', 2.3542161753418371), ('A2V,A4V,A5V', -1.7723990262606371), ('A3V,A4V,A5V', 0.7424149668402017), ('A1V,A2V,A3V,A4V', 0.50285258327214988), ('A1V,A2V,A3V,A5V', -1.5343405363008271), ('A1V,A2V,A4V,A5V', 4.3265582053587668), ('A1V,A3V,A4V,A5V', 0.43576933732230572), ('A2V,A3V,A4V,A5V', 1.9225116487554272), ('A1V,A2V,A3V,A4V,A5V', -6.6572456673820337)])\n"
     ]
    }
   ],
   "source": [
    "epistasis.estimate_interactions()\n",
    "print epistasis.interaction_values\n",
    "print epistasis.genotype2value"
   ]
  },
  {
   "cell_type": "code",
   "execution_count": 6,
   "metadata": {
    "collapsed": false
   },
   "outputs": [
    {
     "name": "stdout",
     "output_type": "stream",
     "text": [
      "[ 0.00699041  0.01498474  0.03465801  0.04494651  0.02402369  0.05086658\n",
      "  0.04322832  0.07626067  0.01687215  0.02443642  0.03792953  0.05695439\n",
      "  0.03523222  0.07284098  0.05141773  0.09964214  0.04407652  0.064684\n",
      "  0.0630885   0.09319422  0.05062268  0.08415483  0.07193032  0.12498541\n",
      "  0.06733773  0.0844447   0.0940152   0.12279809  0.07774322  0.11856938\n",
      "  0.10508865  0.16357329]\n",
      "OrderedDict([('A0V', 0.006990412489523418), ('A1V', 0.014984737206077707), ('A2V', 0.034658008584694353), ('A3V', 0.044946510796105239), ('A4V', 0.02402369367913991), ('A5V', 0.050866584150276145), ('A1V,A2V', 0.043228321821801939), ('A1V,A3V', 0.076260666211295944), ('A1V,A4V', 0.01687214608014765), ('A1V,A5V', 0.024436420316763501), ('A2V,A3V', 0.037929534318196359), ('A2V,A4V', 0.056954386557924862), ('A2V,A5V', 0.035232224141715091), ('A3V,A4V', 0.072840977736529255), ('A3V,A5V', 0.051417730154241129), ('A4V,A5V', 0.099642135093202328), ('A1V,A2V,A3V', 0.044076520785634302), ('A1V,A2V,A4V', 0.064684003387449701), ('A1V,A2V,A5V', 0.063088504862277947), ('A1V,A3V,A4V', 0.093194223513760499), ('A1V,A3V,A5V', 0.050622676414759434), ('A1V,A4V,A5V', 0.084154834728201316), ('A2V,A3V,A4V', 0.071930320019777116), ('A2V,A3V,A5V', 0.12498540710533272), ('A2V,A4V,A5V', 0.067337734764235366), ('A3V,A4V,A5V', 0.084444703217224221), ('A1V,A2V,A3V,A4V', 0.094015195596372392), ('A1V,A2V,A3V,A5V', 0.12279808528435648), ('A1V,A2V,A4V,A5V', 0.077743216647391311), ('A1V,A3V,A4V,A5V', 0.11856937974952556), ('A2V,A3V,A4V,A5V', 0.10508865473844374), ('A1V,A2V,A3V,A4V,A5V', 0.16357328742849003)])\n"
     ]
    }
   ],
   "source": [
    "epistasis.estimate_error()\n",
    "print epistasis.interaction_errors\n",
    "print epistasis.genotype2error"
   ]
  },
  {
   "cell_type": "markdown",
   "metadata": {},
   "source": [
    "## Plotting epistasis \n",
    "\n",
    "The `epistasis` package has build-in matplotlib plotting functions. This demostrates one of the methods."
   ]
  },
  {
   "cell_type": "code",
   "execution_count": 12,
   "metadata": {
    "collapsed": true
   },
   "outputs": [],
   "source": [
    "%matplotlib inline\n",
    "from epistasis.visuals.plotting import epistasis_bar"
   ]
  },
  {
   "cell_type": "code",
   "execution_count": 13,
   "metadata": {
    "collapsed": false
   },
   "outputs": [
    {
     "data": {
      "text/plain": [
       "(<matplotlib.figure.Figure at 0x114fb6a90>,\n",
       " <matplotlib.axes._subplots.AxesSubplot at 0x111e8a810>)"
      ]
     },
     "execution_count": 13,
     "metadata": {},
     "output_type": "execute_result"
    },
    {
     "data": {
      "image/png": "[encoded data removed]",
      "text/plain": [
       "<matplotlib.figure.Figure at 0x114fb6a90>"
      ]
     },
     "metadata": {},
     "output_type": "display_data"
    }
   ],
   "source": [
    "epistasis_bar(epistasis, sigmas=2)"
   ]
  },
  {
   "cell_type": "code",
   "execution_count": null,
   "metadata": {
    "collapsed": true
   },
   "outputs": [],
   "source": []
  }
 ],
 "metadata": {
  "kernelspec": {
   "display_name": "Python 2",
   "language": "python",
   "name": "python2"
  },
  "language_info": {
   "codemirror_mode": {
    "name": "ipython",
    "version": 2
   },
   "file_extension": ".py",
   "mimetype": "text/x-python",
   "name": "python",
   "nbconvert_exporter": "python",
   "pygments_lexer": "ipython2",
   "version": "2.7.6"
  }
 },
 "nbformat": 4,
 "nbformat_minor": 0
}
