{
 "cells": [
  {
   "cell_type": "markdown",
   "metadata": {},
   "source": [
    "# Demostrating Epistasis Models "
   ]
  },
  {
   "cell_type": "code",
   "execution_count": 1,
   "metadata": {
    "collapsed": false
   },
   "outputs": [],
   "source": [
    "import numpy as np\n",
    "from epistasis.utils import enumerate_space"
   ]
  },
  {
   "cell_type": "markdown",
   "metadata": {},
   "source": [
    "\n",
    "Build a toy binary genotype-phenotype map, between two sequences, for the following example. The errors around each phenotype is 5%."
   ]
  },
  {
   "cell_type": "code",
   "execution_count": 2,
   "metadata": {
    "collapsed": false
   },
   "outputs": [],
   "source": [
    "seq1 = 'AAAAA'\n",
    "seq2 = 'VVVVV'\n",
    "genotypes, binary = enumerate_space(seq1,seq2)\n",
    "phenotypes = np.random.rand(len(genotypes))\n",
    "errors = phenotypes*0.05"
   ]
  },
  {
   "cell_type": "markdown",
   "metadata": {},
   "source": [
    "## The LocalEpistasisMap object"
   ]
  },
  {
   "cell_type": "code",
   "execution_count": 3,
   "metadata": {
    "collapsed": false
   },
   "outputs": [],
   "source": [
    "from epistasis.models import LocalEpistasisModel"
   ]
  },
  {
   "cell_type": "markdown",
   "metadata": {},
   "source": [
    "The `LocalEpistasisMap` object can be used to estimate epistasis in a genotype-phenotype map using the biochemical interpretation (through mutant cycles) described in this paper to the order of **highest possible interaction**.\n",
    "\n",
    "Begin by creating an instance of the `LocalEpistasisMap` and populating it with a wildtype (reference), genotypes, phenotypes, and phenotype errors. "
   ]
  },
  {
   "cell_type": "code",
   "execution_count": 4,
   "metadata": {
    "collapsed": false
   },
   "outputs": [],
   "source": [
    "epistasis = LocalEpistasisModel(seq1, genotypes, phenotypes, errors=errors, log_transform=True)"
   ]
  },
  {
   "cell_type": "markdown",
   "metadata": {},
   "source": [
    "The epistasis hasn't been estimated yet; the map has just been created. The following method estimates all interactions epistasis."
   ]
  },
  {
   "cell_type": "code",
   "execution_count": 5,
   "metadata": {
    "collapsed": false
   },
   "outputs": [
    {
     "name": "stdout",
     "output_type": "stream",
     "text": [
      "[-0.14837379 -1.45816083 -0.14735254 -0.41078736 -0.2162664  -0.07476827\n",
      "  0.38385173  1.96076377  1.82135528  1.55732609  0.28676751  0.24793593\n",
      "  0.11814126  0.34011699  0.58576974  0.34845669 -0.74550275 -0.82446955\n",
      " -0.23736476 -2.71979515 -3.21416637 -1.88631666  0.04090275 -0.59099473\n",
      " -0.49180932 -0.78750927  1.19814459  1.87739403  0.88527578  4.23431273\n",
      "  0.61962825 -3.30361721]\n",
      "{'0,1,2,4': 1.8773940330467218, '1,2,3,4': 0.61962825395137178, '1,2,3': 0.040902748147008783, '0,2,3,4': 4.2343127271189047, '1,4': 0.11814126067197026, '0,1,2': -0.74550275017060297, '3': -0.21626640023924829, '1': -0.14735254050838129, '0': -1.4581608338452137, '0,4': 1.5573260864470631, '0,3': 1.8213552808566591, '3,4': 0.34845668720043155, '0,2,4': -3.2141663654061392, '0,1,4': -0.23736475625800701, '0,2,3': -2.7197951542490095, '1,2': 0.28676751110843529, '0,3,4': -1.8863166611675528, '2,3,4': -0.78750926588770265, '0,1': 0.38385172702226145, '1,2,4': -0.59099472507298456, '0,1,3,4': 0.88527577712026861, '2,3': 0.34011699141872914, '4': -0.074768271893785043, '0,2': 1.9607637716811208, '2,4': 0.58576974181479857, '0,1,2,3': 1.1981445902584906, '1,3': 0.24793592866598579, '2': -0.41078736492798285, '0,1,2,3,4': -3.3036172095017067, '0,1,3': -0.82446954793011717, '1,3,4': -0.49180932351889606}\n"
     ]
    }
   ],
   "source": [
    "epistasis.fit()\n",
    "epistasis.fit_error()\n",
    "print(epistasis.Interactions.values)\n",
    "print(epistasis.get_map(\"Interactions.keys\", \"Interactions.values\"))"
   ]
  },
  {
   "cell_type": "code",
   "execution_count": 6,
   "metadata": {
    "collapsed": false
   },
   "outputs": [
    {
     "name": "stdout",
     "output_type": "stream",
     "text": [
      "[[ 0.03292995  0.04656998  0.04656998  0.04656998  0.04656998  0.04656998\n",
      "   0.06585989  0.06585989  0.06585989  0.06585989  0.06585989  0.06585989\n",
      "   0.06585989  0.06585989  0.06585989  0.06585989  0.09313995  0.09313995\n",
      "   0.09313995  0.09313995  0.09313995  0.09313995  0.09313995  0.09313995\n",
      "   0.09313995  0.09313995  0.13171978  0.13171978  0.13171978  0.13171978\n",
      "   0.13171978  0.1862799 ]\n",
      " [ 0.03292995  0.04656998  0.04656998  0.04656998  0.04656998  0.04656998\n",
      "   0.06585989  0.06585989  0.06585989  0.06585989  0.06585989  0.06585989\n",
      "   0.06585989  0.06585989  0.06585989  0.06585989  0.09313995  0.09313995\n",
      "   0.09313995  0.09313995  0.09313995  0.09313995  0.09313995  0.09313995\n",
      "   0.09313995  0.09313995  0.13171978  0.13171978  0.13171978  0.13171978\n",
      "   0.13171978  0.1862799 ]]\n",
      "{'AAAAV': array([ 0.03292995,  0.03292995,  0.03292995,  0.03292995,  0.03292995,\n",
      "        0.03292995,  0.03292995,  0.03292995,  0.03292995,  0.03292995,\n",
      "        0.03292995,  0.03292995,  0.03292995,  0.03292995,  0.03292995,\n",
      "        0.03292995,  0.03292995,  0.03292995,  0.03292995,  0.03292995,\n",
      "        0.03292995,  0.03292995,  0.03292995,  0.03292995,  0.03292995,\n",
      "        0.03292995,  0.03292995,  0.03292995,  0.03292995,  0.03292995,\n",
      "        0.03292995,  0.03292995]), 'AAAAA': array([-0.03292995, -0.03292995, -0.03292995, -0.03292995, -0.03292995,\n",
      "       -0.03292995, -0.03292995, -0.03292995, -0.03292995, -0.03292995,\n",
      "       -0.03292995, -0.03292995, -0.03292995, -0.03292995, -0.03292995,\n",
      "       -0.03292995, -0.03292995, -0.03292995, -0.03292995, -0.03292995,\n",
      "       -0.03292995, -0.03292995, -0.03292995, -0.03292995, -0.03292995,\n",
      "       -0.03292995, -0.03292995, -0.03292995, -0.03292995, -0.03292995,\n",
      "       -0.03292995, -0.03292995])}\n"
     ]
    }
   ],
   "source": [
    "print(epistasis.Interactions.errors)\n",
    "print(epistasis.get_map(\"genotypes\", \"errors\"))"
   ]
  },
  {
   "cell_type": "markdown",
   "metadata": {},
   "source": [
    "## Plotting the output from Epistasis Models \n",
    "\n",
    "The `epistasis` package has build-in matplotlib plotting functions. This demostrates one of the methods."
   ]
  },
  {
   "cell_type": "code",
   "execution_count": 7,
   "metadata": {
    "collapsed": false
   },
   "outputs": [],
   "source": [
    "%matplotlib inline\n",
    "from epistasis.plotting import epistasis_bar"
   ]
  },
  {
   "cell_type": "code",
   "execution_count": 8,
   "metadata": {
    "collapsed": false
   },
   "outputs": [
    {
     "data": {
      "text/plain": [
       "(<matplotlib.figure.Figure at 0x1097121d0>,\n",
       " <matplotlib.axes._subplots.AxesSubplot at 0x10a8e6080>)"
      ]
     },
     "execution_count": 8,
     "metadata": {},
     "output_type": "execute_result"
    },
    {
     "data": {
      "image/png": "[encoded data removed]",
      "text/plain": [
       "<matplotlib.figure.Figure at 0x1097121d0>"
      ]
     },
     "metadata": {},
     "output_type": "display_data"
    }
   ],
   "source": [
    "epistasis_bar(epistasis, sigmas=2)"
   ]
  },
  {
   "cell_type": "markdown",
   "metadata": {},
   "source": [
    "# Other Epistasis Models\n",
    "\n",
    "Three different models for estimating epistasis in a genotype-phenotype map are included in the epistasis package. We've already seen the *local epistasis model*. Let's see the other types:"
   ]
  },
  {
   "cell_type": "markdown",
   "metadata": {},
   "source": [
    "## GlobalEpistasisMap"
   ]
  },
  {
   "cell_type": "code",
   "execution_count": 9,
   "metadata": {
    "collapsed": false
   },
   "outputs": [],
   "source": [
    "from epistasis.models import GlobalEpistasisModel"
   ]
  },
  {
   "cell_type": "markdown",
   "metadata": {},
   "source": [
    "The *global epistasis map* uses a Discrete Fourier Transformation of the mutation map, and determines the global average of phenotypes for the reference state. Epistatic interactions are deviations from the additive (or multiplicative) model from this reference state."
   ]
  },
  {
   "cell_type": "code",
   "execution_count": 10,
   "metadata": {
    "collapsed": false
   },
   "outputs": [
    {
     "data": {
      "text/plain": [
       "(<matplotlib.figure.Figure at 0x10a806c88>,\n",
       " <matplotlib.axes._subplots.AxesSubplot at 0x10adcfc18>)"
      ]
     },
     "execution_count": 10,
     "metadata": {},
     "output_type": "execute_result"
    },
    {
     "data": {
      "image/png": "[encoded data removed]",
      "text/plain": [
       "<matplotlib.figure.Figure at 0x10a806c88>"
      ]
     },
     "metadata": {},
     "output_type": "display_data"
    }
   ],
   "source": [
    "epistasis = GlobalEpistasisModel(seq1, genotypes, phenotypes, errors=errors, log_transform=True)\n",
    "epistasis.fit()\n",
    "epistasis.fit_error()\n",
    "epistasis_bar(epistasis, sigmas=2)"
   ]
  },
  {
   "cell_type": "markdown",
   "metadata": {},
   "source": [
    "## ProjectedEpistasisMap"
   ]
  },
  {
   "cell_type": "code",
   "execution_count": 11,
   "metadata": {
    "collapsed": false
   },
   "outputs": [],
   "source": [
    "from epistasis.models import ProjectedEpistasisModel"
   ]
  },
  {
   "cell_type": "markdown",
   "metadata": {},
   "source": [
    "The *projected epistasis map* is the same model as the local epistasis map; however, it attempts to estimate lower order interactions from a high ordered space, using a lower order (any order, actually) model. This is useful for modeling very large spaces that might be too large for a full-order fit. The first argument is the order of the fit. "
   ]
  },
  {
   "cell_type": "code",
   "execution_count": 12,
   "metadata": {
    "collapsed": false
   },
   "outputs": [
    {
     "data": {
      "text/plain": [
       "(<matplotlib.figure.Figure at 0x10b0d6240>,\n",
       " <matplotlib.axes._subplots.AxesSubplot at 0x10b0d4908>)"
      ]
     },
     "execution_count": 12,
     "metadata": {},
     "output_type": "execute_result"
    },
    {
     "data": {
      "image/png": "[encoded data removed]",
      "text/plain": [
       "<matplotlib.figure.Figure at 0x10b0d6240>"
      ]
     },
     "metadata": {},
     "output_type": "display_data"
    }
   ],
   "source": [
    "regression_order = 3\n",
    "epistasis = ProjectedEpistasisModel(seq1, genotypes, phenotypes, regression_order,\n",
    "                                    errors=errors, log_transform=True)\n",
    "epistasis.fit()\n",
    "epistasis.fit_error()\n",
    "epistasis_bar(epistasis)"
   ]
  },
  {
   "cell_type": "markdown",
   "metadata": {},
   "source": [
    "# Some comments about the Epistasis Models\n",
    "\n",
    "The Epistasis models inherit the core `EpistasisMap` object, so you can access all the attributes from that object as well. This enables you to easily map between different properties of the space; for example, map epistatic index to gentype, to their value."
   ]
  }
 ],
 "metadata": {
  "kernelspec": {
   "display_name": "Python 3",
   "language": "python",
   "name": "python3"
  },
  "language_info": {
   "codemirror_mode": {
    "name": "ipython",
    "version": 3
   },
   "file_extension": ".py",
   "mimetype": "text/x-python",
   "name": "python",
   "nbconvert_exporter": "python",
   "pygments_lexer": "ipython3",
   "version": "3.4.3"
  }
 },
 "nbformat": 4,
 "nbformat_minor": 0
}
