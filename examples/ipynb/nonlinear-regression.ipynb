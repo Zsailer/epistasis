{
 "cells": [
  {
   "cell_type": "markdown",
   "metadata": {},
   "source": [
    "# Linear Regression to estimate high-order epistasis"
   ]
  },
  {
   "cell_type": "code",
   "execution_count": 17,
   "metadata": {},
   "outputs": [
    {
     "data": {
      "text/plain": [
       "0.90826551614987672"
      ]
     },
     "execution_count": 17,
     "metadata": {},
     "output_type": "execute_result"
    }
   ],
   "source": [
    "%matplotlib inline\n",
    "import matplotlib.pyplot as plt\n",
    "import numpy as np\n",
    "\n",
    "from gpmap import GenotypePhenotypeMap\n",
    "from epistasis.models import EpistasisNonlinearRegression\n",
    "\n",
    "# Define the nonlinear relationship and it's inverse.\n",
    "def diminishing_returns(x, A):\n",
    "    return 1.0 / (1 + A * np.exp(-x)) \n",
    "\n",
    "def reverse_func(y, A):\n",
    "    return np.log(A) - np.log((1 / y) - 1)\n",
    "\n",
    "# Initialize the model\n",
    "\n",
    "\n",
    "model = EpistasisNonlinearRegression(\n",
    "    function=diminishing_returns,\n",
    "    reverse=reverse_func,\n",
    "    model_type=\"global\",\n",
    "    A=2\n",
    ")\n",
    "model.add_gpm(gpm)\n",
    "\n",
    "# Fit the model.\n",
    "model.fit()\n",
    "model.score()"
   ]
  },
  {
   "cell_type": "code",
   "execution_count": 18,
   "metadata": {},
   "outputs": [],
   "source": [
    "from epistasis.pyplot.nonlinear import plot_scale"
   ]
  },
  {
   "cell_type": "code",
   "execution_count": 19,
   "metadata": {},
   "outputs": [
    {
     "data": {
      "text/plain": [
       "array([ 0.88912836,  0.79673213,  0.94044015,  0.84804392,  0.83318975,\n",
       "        0.74079352,  0.88450155,  0.79210532,  0.91689828,  0.82450205,\n",
       "        0.96821008,  0.87581384,  0.86095967,  0.76856344,  0.91227147,\n",
       "        0.81987524,  0.8725849 ,  0.78018867,  0.9238967 ,  0.83150047,\n",
       "        0.8166463 ,  0.72425006,  0.86795809,  0.77556186,  0.90035482,\n",
       "        0.80795859,  0.95166662,  0.85927039,  0.84441622,  0.75201999,\n",
       "        0.89572801,  0.80333178])"
      ]
     },
     "execution_count": 19,
     "metadata": {},
     "output_type": "execute_result"
    }
   ],
   "source": [
    "yadd"
   ]
  },
  {
   "cell_type": "code",
   "execution_count": 23,
   "metadata": {},
   "outputs": [],
   "source": [
    "ypred = model.function(yadd, **model.parameters)"
   ]
  },
  {
   "cell_type": "code",
   "execution_count": 24,
   "metadata": {},
   "outputs": [],
   "source": [
    "from epistasis.stats import pearson"
   ]
  },
  {
   "cell_type": "code",
   "execution_count": 26,
   "metadata": {},
   "outputs": [
    {
     "data": {
      "text/plain": [
       "array([ 0.84966934,  0.83748238,  0.85610656,  0.84434584,  0.84238362,\n",
       "        0.82972438,  0.8490774 ,  0.83685166,  0.85318209,  0.84122669,\n",
       "        0.85949377,  0.84796073,  0.84603577,  0.83361192,  0.85260158,\n",
       "        0.84060773,  0.84754398,  0.83521813,  0.85405657,  0.8421592 ,\n",
       "        0.84017462,  0.82737433,  0.84694517,  0.83458036,  0.85109769,\n",
       "        0.83900458,  0.857484  ,  0.84581559,  0.84386847,  0.83130461,\n",
       "        0.85051038,  0.83837863])"
      ]
     },
     "execution_count": 26,
     "metadata": {},
     "output_type": "execute_result"
    }
   ],
   "source": [
    "ypred"
   ]
  },
  {
   "cell_type": "code",
   "execution_count": 27,
   "metadata": {},
   "outputs": [
    {
     "data": {
      "text/plain": [
       "array([ 0.898791  ,  0.80072929,  0.91890445,  0.85636863,  0.83729291,\n",
       "        0.69709366,  0.89696103,  0.79309361,  0.91449267,  0.83401009,\n",
       "        0.93615161,  0.87380998,  0.89047962,  0.7476163 ,  0.91042915,\n",
       "        0.86580479,  0.88525427,  0.79052687,  0.90715977,  0.87125001,\n",
       "        0.81276244,  0.67899143,  0.88717658,  0.78516578,  0.92413274,\n",
       "        0.80250861,  0.92479935,  0.84830063,  0.85681154,  0.75769332,\n",
       "        0.87725184,  0.79754828])"
      ]
     },
     "execution_count": 27,
     "metadata": {},
     "output_type": "execute_result"
    }
   ],
   "source": [
    "gpm.phenotypes\n"
   ]
  },
  {
   "cell_type": "code",
   "execution_count": 28,
   "metadata": {},
   "outputs": [
    {
     "data": {
      "text/plain": [
       "0.90826551614987672"
      ]
     },
     "execution_count": 28,
     "metadata": {},
     "output_type": "execute_result"
    }
   ],
   "source": [
    "pearson(ypred, gpm.phenotypes)**2"
   ]
  },
  {
   "cell_type": "code",
   "execution_count": 29,
   "metadata": {},
   "outputs": [
    {
     "data": {
      "text/plain": [
       "[<matplotlib.lines.Line2D at 0x1a18bb2160>]"
      ]
     },
     "execution_count": 29,
     "metadata": {},
     "output_type": "execute_result"
    },
    {
     "data": {
      "image/png": "[encoded data removed]",
      "text/plain": [
       "<matplotlib.figure.Figure at 0x1a18bb2320>"
      ]
     },
     "metadata": {},
     "output_type": "display_data"
    }
   ],
   "source": [
    "yadd = model.Additive.predict()\n",
    "yobs = model.gpm.phenotypes\n",
    "\n",
    "xx = np.linspace(.7, 1, 20)\n",
    "yy = model.function(xx, **model.parameters)\n",
    "\n",
    "plt.plot(yadd, yobs, '.')\n",
    "plt.plot(xx, yy)"
   ]
  },
  {
   "cell_type": "code",
   "execution_count": 4,
   "metadata": {},
   "outputs": [
    {
     "data": {
      "text/plain": [
       "Parameters([('A',\n",
       "             <Parameter 'A', value=0.43046832137539531 +/- 0.0338, bounds=[-inf:inf]>)])"
      ]
     },
     "execution_count": 4,
     "metadata": {},
     "output_type": "execute_result"
    }
   ],
   "source": [
    "model.parameters"
   ]
  },
  {
   "cell_type": "code",
   "execution_count": 5,
   "metadata": {},
   "outputs": [
    {
     "data": {
      "text/plain": [
       "array([ 0.80890048,  0.81213366,  0.81532463,  0.81847351,  0.82158045,\n",
       "        0.82464561,  0.82766915,  0.83065127,  0.83359216,  0.83649203,\n",
       "        0.8393511 ,  0.84216961,  0.84494781,  0.84768595,  0.8503843 ,\n",
       "        0.85304314,  0.85566274,  0.8582434 ,  0.86078544,  0.86328915])"
      ]
     },
     "execution_count": 5,
     "metadata": {},
     "output_type": "execute_result"
    }
   ],
   "source": [
    "xx = np.linspace(.6, 1, 20)\n",
    "model.function(xx, **model.parameters)"
   ]
  },
  {
   "cell_type": "code",
   "execution_count": 6,
   "metadata": {},
   "outputs": [
    {
     "name": "stdout",
     "output_type": "stream",
     "text": [
      "[ 0.82737431  0.8292005   0.83101131  0.83280679  0.834587    0.83635197\n",
      "  0.83810177  0.83983644  0.84155604  0.84326062  0.84495024  0.84662496\n",
      "  0.84828483  0.84992993  0.85156031  0.85317604  0.85477719  0.85636381\n",
      "  0.85793597  0.85949375]\n"
     ]
    },
    {
     "data": {
      "text/plain": [
       "<matplotlib.axes._subplots.AxesSubplot at 0x109ba0438>"
      ]
     },
     "execution_count": 6,
     "metadata": {},
     "output_type": "execute_result"
    },
    {
     "data": {
      "image/png": "[encoded data removed]",
      "text/plain": [
       "<matplotlib.figure.Figure at 0x10bcabda0>"
      ]
     },
     "metadata": {},
     "output_type": "display_data"
    }
   ],
   "source": [
    "plot_scale(model)"
   ]
  },
  {
   "cell_type": "code",
   "execution_count": null,
   "metadata": {},
   "outputs": [],
   "source": []
  }
 ],
 "metadata": {
  "kernelspec": {
   "display_name": "gpseer (Python 3)",
   "language": "python",
   "name": "gpseer"
  },
  "language_info": {
   "codemirror_mode": {
    "name": "ipython",
    "version": 3
   },
   "file_extension": ".py",
   "mimetype": "text/x-python",
   "name": "python",
   "nbconvert_exporter": "python",
   "pygments_lexer": "ipython3",
   "version": "3.5.4"
  }
 },
 "nbformat": 4,
 "nbformat_minor": 2
}
