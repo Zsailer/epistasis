{
 "cells": [
  {
   "cell_type": "markdown",
   "metadata": {},
   "source": [
    "# Linear Regression to estimate high-order epistasis"
   ]
  },
  {
   "cell_type": "code",
   "execution_count": 1,
   "metadata": {},
   "outputs": [
    {
     "data": {
      "text/plain": [
       "EpistasisNonlinearRegression(function=<function diminishing_returns at 0x113de9620>,\n",
       "               model_type='local', order=2,\n",
       "               reverse=<function reverse_func at 0x113de97b8>)"
      ]
     },
     "execution_count": 1,
     "metadata": {},
     "output_type": "execute_result"
    }
   ],
   "source": [
    "%matplotlib inline\n",
    "import matplotlib.pyplot as plt\n",
    "import numpy as np\n",
    "\n",
    "from epistasis.models import EpistasisNonlinearRegression\n",
    "\n",
    "# Define the nonlinear relationship and it's inverse.\n",
    "def diminishing_returns(x, A):\n",
    "    return 1.0 / (1 + A * np.exp(-x))  \n",
    "\n",
    "def reverse_func(y, A):\n",
    "    return -np.log(((1 / y) - 1)/A)\n",
    "\n",
    "# Initialize the model\n",
    "model = EpistasisNonlinearRegression.read_json(\"../data/nonlinear-data.json\",\n",
    "    order=2,\n",
    "    function=diminishing_returns,\n",
    "    reverse=reverse_func,\n",
    "    model_type=\"local\",\n",
    "    A=1\n",
    ")\n",
    "\n",
    "# Fit the model.\n",
    "model.fit(A=1)"
   ]
  },
  {
   "cell_type": "code",
   "execution_count": 1,
   "metadata": {},
   "outputs": [
    {
     "data": {
      "text/plain": [
       "EpistasisPowerTransform(model_type='global', order=1)"
      ]
     },
     "execution_count": 1,
     "metadata": {},
     "output_type": "execute_result"
    }
   ],
   "source": [
    "%matplotlib inline\n",
    "import matplotlib.pyplot as plt\n",
    "import numpy as np\n",
    "\n",
    "from epistasis.models import EpistasisPowerTransform\n",
    "\n",
    "\n",
    "# Initialize the model\n",
    "model = EpistasisPowerTransform.read_json(\"../data/nonlinear-data.json\",\n",
    "    order=1,\n",
    "    model_type=\"global\")\n",
    "\n",
    "# Fit the model.\n",
    "model.fit(lmbda=1, B=.5, A=0)"
   ]
  },
  {
   "cell_type": "code",
   "execution_count": 7,
   "metadata": {},
   "outputs": [
    {
     "data": {
      "text/plain": [
       "[<matplotlib.lines.Line2D at 0x11554edd8>]"
      ]
     },
     "execution_count": 7,
     "metadata": {},
     "output_type": "execute_result"
    },
    {
     "data": {
      "image/png": "[encoded data removed]",
      "text/plain": [
       "<matplotlib.figure.Figure at 0x11554ec88>"
      ]
     },
     "metadata": {},
     "output_type": "display_data"
    }
   ],
   "source": [
    "xadd = model.Additive.predict()\n",
    "plt.plot(xadd, model.gpm.phenotypes, '.')\n",
    "xmodel = np.linspace(.7, 1.0, 1000)\n",
    "ymodel = model.function(xmodel, *model.parameters.values(), data=xadd)\n",
    "plt.plot(xmodel, ymodel, '-')"
   ]
  },
  {
   "cell_type": "code",
   "execution_count": 2,
   "metadata": {},
   "outputs": [
    {
     "data": {
      "text/plain": [
       "array([ 0.89439285,  0.80281964,  0.92900247,  0.85970684,  0.84508865,\n",
       "        0.7101365 ,  0.89084576,  0.79665575,  0.91411081,  0.83591047,\n",
       "        0.94479867,  0.88395927,  0.87144199,  0.7616586 ,  0.91099904,\n",
       "        0.83081364,  0.88132087,  0.77975637,  0.91869733,  0.84334243,\n",
       "        0.82716541,  0.67191921,  0.87746201,  0.77275879,  0.90267472,\n",
       "        0.81695313,  0.93560054,  0.86995446,  0.8562536 ,  0.73258389,\n",
       "        0.89931548,  0.811263  ])"
      ]
     },
     "execution_count": 2,
     "metadata": {},
     "output_type": "execute_result"
    }
   ],
   "source": []
  },
  {
   "cell_type": "code",
   "execution_count": null,
   "metadata": {},
   "outputs": [],
   "source": [
    "padd = model.Linear.predict(X=\"obs\")\n",
    "pobs = model.gpm.phenotypes\n",
    "plt.plot(padd, pobs, \"o\")\n",
    "\n",
    "xmodel = np.linspace(-.5, 2)\n",
    "ymodel = model.function(xmodel, model.parameters['A'])\n",
    "\n",
    "plt.plot(xmodel, ymodel, \"-r\")\n",
    "plt.xlabel(\"$P_{lin}$\", fontsize=14)\n",
    "plt.ylabel(\"$P_{obs}$\", fontsize=14)\n",
    "plt.title(\"Nonlinear epistasis model\")\n",
    "plt.show()"
   ]
  },
  {
   "cell_type": "code",
   "execution_count": 4,
   "metadata": {},
   "outputs": [],
   "source": [
    "from epistasis.plot import corr_resid_rhist, coefs"
   ]
  },
  {
   "cell_type": "code",
   "execution_count": 5,
   "metadata": {},
   "outputs": [
    {
     "data": {
      "text/plain": [
       "(<matplotlib.figure.Figure at 0x11313a860>,\n",
       " [<matplotlib.axes._subplots.AxesSubplot at 0x11320cd68>,\n",
       "  <matplotlib.axes._subplots.AxesSubplot at 0x113305780>])"
      ]
     },
     "execution_count": 5,
     "metadata": {},
     "output_type": "execute_result"
    },
    {
     "data": {
      "image/png": "[encoded data removed]",
      "text/plain": [
       "<matplotlib.figure.Figure at 0x11313a860>"
      ]
     },
     "metadata": {},
     "output_type": "display_data"
    }
   ],
   "source": [
    "coefs(model.Linear.epistasis.values, model.Linear.epistasis.sites, figsize=(2,3))"
   ]
  }
 ],
 "metadata": {
  "kernelspec": {
   "display_name": "gpseer (Python 3)",
   "language": "python",
   "name": "gpseer"
  },
  "language_info": {
   "codemirror_mode": {
    "name": "ipython",
    "version": 3
   },
   "file_extension": ".py",
   "mimetype": "text/x-python",
   "name": "python",
   "nbconvert_exporter": "python",
   "pygments_lexer": "ipython3",
   "version": "3.5.4"
  }
 },
 "nbformat": 4,
 "nbformat_minor": 2
}
