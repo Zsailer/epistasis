{
 "cells": [
  {
   "cell_type": "markdown",
   "metadata": {},
   "source": [
    "# Linear Regression to estimate high-order epistasis"
   ]
  },
  {
   "cell_type": "code",
   "execution_count": 1,
   "metadata": {},
   "outputs": [
    {
     "data": {
      "image/png": "[encoded data removed]",
      "text/plain": [
       "<matplotlib.figure.Figure at 0x107df6a58>"
      ]
     },
     "execution_count": 1,
     "metadata": {},
     "output_type": "execute_result"
    }
   ],
   "source": [
    "# Import a model and the plotting module\n",
    "from epistasis.models import EpistasisLinearRegression\n",
    "from epistasis.pyplot import plot_coefs\n",
    "\n",
    "# Genotype-phenotype map data.\n",
    "wildtype = \"AAA\"\n",
    "\n",
    "genotypes = [\"AAA\", \"ATA\", \"TAA\", \"ATT\", \"TAT\", \"TTA\", \"TTT\"]\n",
    "phenotypes = [0.1, 0.4, 0.3, 0.3, 0.6, 0.8, 1.0]\n",
    "\n",
    "# genotypes = [\"AAA\", \"AAT\", \"ATA\", \"TAA\", \"ATT\", \"TAT\", \"TTA\", \"TTT\"]\n",
    "# phenotypes = [0.1, 0.2, 0.4, 0.3, 0.3, 0.6, 0.8, 1.0]\n",
    "\n",
    "# Construct an epistasis model.\n",
    "model = EpistasisLinearRegression(order=3)\n",
    "model.add_data(wildtype=wildtype,\n",
    "                genotypes=genotypes,\n",
    "                phenotypes=phenotypes)\n",
    "\n",
    "# Fit the model.\n",
    "model.fit()\n",
    "\n",
    "# loo\n",
    "coef_sites = model.epistasis.sites # List of site indexes\n",
    "coef_values = model.epistasis.values # List of coefficient values\n",
    "\n",
    "# Plot figure.\n",
    "fig, axes = plot_coefs(coef_sites, coef_values, figsize=(.5,.75), ybounds=(-.05, .25))\n",
    "fig"
   ]
  }
 ],
 "metadata": {
  "kernelspec": {
   "display_name": "gpseer (Python 3)",
   "language": "python",
   "name": "gpseer"
  },
  "language_info": {
   "codemirror_mode": {
    "name": "ipython",
    "version": 3
   },
   "file_extension": ".py",
   "mimetype": "text/x-python",
   "name": "python",
   "nbconvert_exporter": "python",
   "pygments_lexer": "ipython3",
   "version": "3.5.4"
  }
 },
 "nbformat": 4,
 "nbformat_minor": 2
}
