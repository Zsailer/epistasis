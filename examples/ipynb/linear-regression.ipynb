{
 "cells": [
  {
   "cell_type": "markdown",
   "metadata": {},
   "source": [
    "# Linear Regression to estimate high-order epistasis"
   ]
  },
  {
   "cell_type": "code",
   "execution_count": 2,
   "metadata": {},
   "outputs": [
    {
     "data": {
      "image/png": "[encoded data removed]",
      "text/plain": [
       "<matplotlib.figure.Figure at 0x10e291048>"
      ]
     },
     "execution_count": 2,
     "metadata": {},
     "output_type": "execute_result"
    }
   ],
   "source": [
    "# Import a model and the plotting module\n",
    "from gpmap import GenotypePhenotypeMap\n",
    "from epistasis.models import EpistasisLinearRegression\n",
    "from epistasis.pyplot import plot_coefs\n",
    "\n",
    "# Genotype-phenotype map data.\n",
    "wildtype = \"AAA\"\n",
    "\n",
    "genotypes = [\"AAA\", \"ATA\", \"TAA\", \"ATT\", \"TAT\", \"TTA\", \"TTT\"]\n",
    "phenotypes = [0.1, 0.4, 0.3, 0.3, 0.6, 0.8, 1.0]\n",
    "\n",
    "gpm = GenotypePhenotypeMap(wildtype, genotypes, phenotypes)\n",
    "# genotypes = [\"AAA\", \"AAT\", \"ATA\", \"TAA\", \"ATT\", \"TAT\", \"TTA\", \"TTT\"]\n",
    "# phenotypes = [0.1, 0.2, 0.4, 0.3, 0.3, 0.6, 0.8, 1.0]\n",
    "\n",
    "# Construct an epistasis model.\n",
    "model = EpistasisLinearRegression(order=3)\n",
    "model.add_gpm(gpm)\n",
    "\n",
    "# Fit the model.\n",
    "model.fit()\n",
    "\n",
    "# loo\n",
    "coef_sites = model.epistasis.sites # List of site indexes\n",
    "coef_values = model.epistasis.values # List of coefficient values\n",
    "\n",
    "# Plot figure.\n",
    "fig, axes = plot_coefs(coef_sites, coef_values, figsize=(.5,.75), ybounds=(-.05, .25))\n",
    "fig"
   ]
  },
  {
   "cell_type": "code",
   "execution_count": 3,
   "metadata": {},
   "outputs": [],
   "source": [
    "from epistasis.simulate import LinearSimulation"
   ]
  },
  {
   "cell_type": "code",
   "execution_count": 6,
   "metadata": {},
   "outputs": [
    {
     "data": {
      "text/plain": [
       "<epistasis.simulate.linear.LinearSimulation at 0x10965f5f8>"
      ]
     },
     "execution_count": 6,
     "metadata": {},
     "output_type": "execute_result"
    }
   ],
   "source": [
    "sim = LinearSimulation.from_length(4)\n",
    "sim.set_coefs_order(4)\n",
    "sim.set_coefs_random((-1,1))"
   ]
  },
  {
   "cell_type": "code",
   "execution_count": 13,
   "metadata": {},
   "outputs": [
    {
     "name": "stdout",
     "output_type": "stream",
     "text": [
      ",sites,values\n",
      "0,[0],0.5011910655025966\n",
      "1,[1],-0.6000186681513706\n",
      "2,[2],0.06498276930060931\n",
      "3,[3],0.6091656756721153\n",
      "4,[4],0.24209508436556937\n",
      "5,\"[1, 2]\",0.2869142038187855\n",
      "6,\"[1, 3]\",-0.26445514455225094\n",
      "7,\"[1, 4]\",-0.4642116520437949\n",
      "8,\"[2, 3]\",0.638260262428922\n",
      "9,\"[2, 4]\",0.23598864236123118\n",
      "10,\"[3, 4]\",0.7179538630349485\n",
      "11,\"[1, 2, 3]\",-0.47312160287366267\n",
      "12,\"[1, 2, 4]\",-0.04191888437610514\n",
      "13,\"[1, 3, 4]\",-0.30912353449573415\n",
      "14,\"[2, 3, 4]\",0.6066739725656609\n",
      "15,\"[1, 2, 3, 4]\",-0.2689818206753505\n",
      "\n"
     ]
    }
   ],
   "source": [
    "print(sim.epistasis.data.to_csv())"
   ]
  },
  {
   "cell_type": "code",
   "execution_count": 15,
   "metadata": {},
   "outputs": [],
   "source": [
    "model.to_json('test.json')"
   ]
  },
  {
   "cell_type": "code",
   "execution_count": null,
   "metadata": {},
   "outputs": [],
   "source": []
  }
 ],
 "metadata": {
  "kernelspec": {
   "display_name": "gpseer (Python 3)",
   "language": "python",
   "name": "gpseer"
  },
  "language_info": {
   "codemirror_mode": {
    "name": "ipython",
    "version": 3
   },
   "file_extension": ".py",
   "mimetype": "text/x-python",
   "name": "python",
   "nbconvert_exporter": "python",
   "pygments_lexer": "ipython3",
   "version": "3.5.4"
  }
 },
 "nbformat": 4,
 "nbformat_minor": 2
}
