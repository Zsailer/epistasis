{
 "cells": [
  {
   "cell_type": "markdown",
   "metadata": {},
   "source": [
    "# Linear Regression to estimate high-order epistasis"
   ]
  },
  {
   "cell_type": "code",
   "execution_count": 13,
   "metadata": {},
   "outputs": [
    {
     "data": {
      "image/png": "[encoded data removed]",
      "text/plain": [
       "<matplotlib.figure.Figure at 0x1a11b72668>"
      ]
     },
     "execution_count": 13,
     "metadata": {},
     "output_type": "execute_result"
    }
   ],
   "source": [
    "# Import a model and the plotting module\n",
    "from epistasis.models import EpistasisLinearRegression\n",
    "from epistasis.pyplot import plot_coefs\n",
    "\n",
    "# Genotype-phenotype map data.\n",
    "wildtype = \"AAA\"\n",
    "genotypes = [\"AAA\", \"AAT\", \"ATA\", \"TAA\", \"ATT\", \"TAT\", \"TTA\", \"TTT\"]\n",
    "phenotypes = [0.1, 0.2, 0.4, 0.3, 0.3, 0.6, 0.8, 1.0]\n",
    "\n",
    "# Construct an epistasis model.\n",
    "model = EpistasisLinearRegression(order=3)\n",
    "model.add_data(wildtype=wildtype,\n",
    "                genotypes=genotypes,\n",
    "                phenotypes=phenotypes)\n",
    "\n",
    "# Fit the model.\n",
    "model.fit()\n",
    "\n",
    "# loo\n",
    "coef_sites = model.epistasis.sites # List of site indexes\n",
    "coef_values = model.epistasis.values # List of coefficient values\n",
    "\n",
    "# Plot figure.\n",
    "fig, axes = plot_coefs(coef_sites, coef_values, figsize=(.5,.75), ybounds=(-.05, .25))\n",
    "fig"
   ]
  },
  {
   "cell_type": "code",
   "execution_count": null,
   "metadata": {},
   "outputs": [],
   "source": []
  },
  {
   "cell_type": "code",
   "execution_count": 14,
   "metadata": {},
   "outputs": [],
   "source": [
    "g = model.gpm"
   ]
  },
  {
   "cell_type": "code",
   "execution_count": 17,
   "metadata": {},
   "outputs": [],
   "source": [
    "import numpy as np\n",
    "g.data.phenotypes = np.random.random(8)"
   ]
  },
  {
   "cell_type": "code",
   "execution_count": 19,
   "metadata": {},
   "outputs": [
    {
     "data": {
      "text/plain": [
       "array([ 0.41455787,  0.44321154,  0.00851365,  0.44307173,  0.01699897,\n",
       "        0.29872678,  0.24774022,  0.31508146])"
      ]
     },
     "execution_count": 19,
     "metadata": {},
     "output_type": "execute_result"
    }
   ],
   "source": [
    "model.gpm.phenotypes"
   ]
  },
  {
   "cell_type": "code",
   "execution_count": 18,
   "metadata": {},
   "outputs": [
    {
     "data": {
      "text/html": [
       "<div>\n",
       "<style scoped>\n",
       "    .dataframe tbody tr th:only-of-type {\n",
       "        vertical-align: middle;\n",
       "    }\n",
       "\n",
       "    .dataframe tbody tr th {\n",
       "        vertical-align: top;\n",
       "    }\n",
       "\n",
       "    .dataframe thead th {\n",
       "        text-align: right;\n",
       "    }\n",
       "</style>\n",
       "<table border=\"1\" class=\"dataframe\">\n",
       "  <thead>\n",
       "    <tr style=\"text-align: right;\">\n",
       "      <th></th>\n",
       "      <th>genotypes</th>\n",
       "      <th>n_replicates</th>\n",
       "      <th>phenotypes</th>\n",
       "      <th>stdeviations</th>\n",
       "      <th>binary</th>\n",
       "    </tr>\n",
       "  </thead>\n",
       "  <tbody>\n",
       "    <tr>\n",
       "      <th>0</th>\n",
       "      <td>AAA</td>\n",
       "      <td>1</td>\n",
       "      <td>0.414558</td>\n",
       "      <td>None</td>\n",
       "      <td>000</td>\n",
       "    </tr>\n",
       "    <tr>\n",
       "      <th>1</th>\n",
       "      <td>AAT</td>\n",
       "      <td>1</td>\n",
       "      <td>0.443212</td>\n",
       "      <td>None</td>\n",
       "      <td>001</td>\n",
       "    </tr>\n",
       "    <tr>\n",
       "      <th>2</th>\n",
       "      <td>ATA</td>\n",
       "      <td>1</td>\n",
       "      <td>0.008514</td>\n",
       "      <td>None</td>\n",
       "      <td>010</td>\n",
       "    </tr>\n",
       "    <tr>\n",
       "      <th>4</th>\n",
       "      <td>TAA</td>\n",
       "      <td>1</td>\n",
       "      <td>0.443072</td>\n",
       "      <td>None</td>\n",
       "      <td>100</td>\n",
       "    </tr>\n",
       "    <tr>\n",
       "      <th>3</th>\n",
       "      <td>ATT</td>\n",
       "      <td>1</td>\n",
       "      <td>0.016999</td>\n",
       "      <td>None</td>\n",
       "      <td>011</td>\n",
       "    </tr>\n",
       "    <tr>\n",
       "      <th>5</th>\n",
       "      <td>TAT</td>\n",
       "      <td>1</td>\n",
       "      <td>0.298727</td>\n",
       "      <td>None</td>\n",
       "      <td>101</td>\n",
       "    </tr>\n",
       "    <tr>\n",
       "      <th>6</th>\n",
       "      <td>TTA</td>\n",
       "      <td>1</td>\n",
       "      <td>0.247740</td>\n",
       "      <td>None</td>\n",
       "      <td>110</td>\n",
       "    </tr>\n",
       "    <tr>\n",
       "      <th>7</th>\n",
       "      <td>TTT</td>\n",
       "      <td>1</td>\n",
       "      <td>0.315081</td>\n",
       "      <td>None</td>\n",
       "      <td>111</td>\n",
       "    </tr>\n",
       "  </tbody>\n",
       "</table>\n",
       "</div>"
      ],
      "text/plain": [
       "  genotypes  n_replicates  phenotypes stdeviations binary\n",
       "0       AAA             1    0.414558         None    000\n",
       "1       AAT             1    0.443212         None    001\n",
       "2       ATA             1    0.008514         None    010\n",
       "4       TAA             1    0.443072         None    100\n",
       "3       ATT             1    0.016999         None    011\n",
       "5       TAT             1    0.298727         None    101\n",
       "6       TTA             1    0.247740         None    110\n",
       "7       TTT             1    0.315081         None    111"
      ]
     },
     "execution_count": 18,
     "metadata": {},
     "output_type": "execute_result"
    }
   ],
   "source": [
    "g.data"
   ]
  },
  {
   "cell_type": "code",
   "execution_count": null,
   "metadata": {},
   "outputs": [],
   "source": []
  }
 ],
 "metadata": {
  "kernelspec": {
   "display_name": "gpseer (Python 3)",
   "language": "python",
   "name": "gpseer"
  },
  "language_info": {
   "codemirror_mode": {
    "name": "ipython",
    "version": 3
   },
   "file_extension": ".py",
   "mimetype": "text/x-python",
   "name": "python",
   "nbconvert_exporter": "python",
   "pygments_lexer": "ipython3",
   "version": "3.5.4"
  }
 },
 "nbformat": 4,
 "nbformat_minor": 2
}
