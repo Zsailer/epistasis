{
 "cells": [
  {
   "cell_type": "markdown",
   "metadata": {},
   "source": [
    "# Linear Regression to estimate high-order epistasis"
   ]
  },
  {
   "cell_type": "code",
   "execution_count": 1,
   "metadata": {},
   "outputs": [
    {
     "data": {
      "image/png": "[encoded data removed]",
      "text/plain": [
       "<matplotlib.figure.Figure at 0x1a0d005b70>"
      ]
     },
     "execution_count": 1,
     "metadata": {},
     "output_type": "execute_result"
    }
   ],
   "source": [
    "# Import a model and the plotting module\n",
    "from gpmap import GenotypePhenotypeMap\n",
    "from epistasis.models import EpistasisLinearRegression\n",
    "from epistasis.pyplot import plot_coefs\n",
    "\n",
    "# Genotype-phenotype map data.\n",
    "wildtype = \"AAA\"\n",
    "\n",
    "genotypes = [\"AAA\", \"ATA\", \"TAA\", \"ATT\", \"TAT\", \"TTA\", \"TTT\"]\n",
    "phenotypes = [0.1, 0.4, 0.3, 0.3, 0.6, 0.8, 1.0]\n",
    "\n",
    "gpm = GenotypePhenotypeMap(wildtype, genotypes, phenotypes)\n",
    "# genotypes = [\"AAA\", \"AAT\", \"ATA\", \"TAA\", \"ATT\", \"TAT\", \"TTA\", \"TTT\"]\n",
    "# phenotypes = [0.1, 0.2, 0.4, 0.3, 0.3, 0.6, 0.8, 1.0]\n",
    "\n",
    "# Construct an epistasis model.\n",
    "model = EpistasisLinearRegression(order=3)\n",
    "model.add_gpm(gpm)\n",
    "\n",
    "# Fit the model.\n",
    "model.fit()\n",
    "\n",
    "# loo\n",
    "coef_sites = model.epistasis.sites # List of site indexes\n",
    "coef_values = model.epistasis.values # List of coefficient values\n",
    "\n",
    "# Plot figure.\n",
    "fig, axes = plot_coefs(coef_sites, coef_values, figsize=(.5,.75), ybounds=(-.05, .25))\n",
    "fig"
   ]
  },
  {
   "cell_type": "code",
   "execution_count": 2,
   "metadata": {},
   "outputs": [
    {
     "data": {
      "text/plain": [
       "{'binary': ['000', '001', '010', '011', '100', '101', '110', '111'],\n",
       " 'genotypes': ['AAA', 'AAT', 'ATA', 'ATT', 'TAA', 'TAT', 'TTA', 'TTT'],\n",
       " 'model_type': 'global',\n",
       " 'mutations': {0: ['A', 'T'], 1: ['A', 'T'], 2: ['A', 'T']},\n",
       " 'n_replicates': [1.0, nan, 1.0, 1.0, 1.0, 1.0, 1.0, 1.0],\n",
       " 'order': 3,\n",
       " 'phenotypes': [0.1, nan, 0.4, 0.3, 0.3, 0.6, 0.8, 1.0],\n",
       " 'sites': [[0], [1], [2], [3], [1, 2], [1, 3], [2, 3], [1, 2, 3]],\n",
       " 'stdeviations': [None, None, None, None, None, None, None, None],\n",
       " 'values': [0.43749999999999983,\n",
       "  0.23749999999999996,\n",
       "  0.18749999999999997,\n",
       "  0.0375000000000001,\n",
       "  0.037500000000000006,\n",
       "  0.08750000000000006,\n",
       "  -0.012500000000000051,\n",
       "  -0.012499999999999874],\n",
       " 'wildtype': 'AAA'}"
      ]
     },
     "execution_count": 2,
     "metadata": {},
     "output_type": "execute_result"
    }
   ],
   "source": [
    "model.to_dict()"
   ]
  },
  {
   "cell_type": "code",
   "execution_count": null,
   "metadata": {},
   "outputs": [],
   "source": []
  }
 ],
 "metadata": {
  "kernelspec": {
   "display_name": "gpseer (Python 3)",
   "language": "python",
   "name": "gpseer"
  },
  "language_info": {
   "codemirror_mode": {
    "name": "ipython",
    "version": 3
   },
   "file_extension": ".py",
   "mimetype": "text/x-python",
   "name": "python",
   "nbconvert_exporter": "python",
   "pygments_lexer": "ipython3",
   "version": "3.5.4"
  }
 },
 "nbformat": 4,
 "nbformat_minor": 2
}
