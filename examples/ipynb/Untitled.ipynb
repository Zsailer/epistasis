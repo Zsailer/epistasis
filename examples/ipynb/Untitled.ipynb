{
 "cells": [
  {
   "cell_type": "markdown",
   "metadata": {},
   "source": [
    "# Linear Regression to estimate high-order epistasis"
   ]
  },
  {
   "cell_type": "code",
   "execution_count": 22,
   "metadata": {},
   "outputs": [
    {
     "data": {
      "text/plain": [
       "EpistasisNonlinearRegression(function=<function boxcox at 0x1072e78c8>,\n",
       "               model_type='global', order=1,\n",
       "               reverse=<function reverse_boxcox at 0x1072e7c80>)"
      ]
     },
     "execution_count": 22,
     "metadata": {},
     "output_type": "execute_result"
    }
   ],
   "source": [
    "from epistasis.models import EpistasisNonlinearRegression\n",
    "\n",
    "# Define the nonlinear relationship and it's inverse.\n",
    "def boxcox(x, lmbda):\n",
    "    return (x**lmbda - 1) / lmbda\n",
    "\n",
    "def reverse_boxcox(y, lmbda):\n",
    "    return (lmbda*y + 1) ** (1/lmbda)\n",
    "\n",
    "# Initialize the model\n",
    "model = EpistasisNonlinearRegression.from_json(\"../data/nonlinear-data.json\",\n",
    "    order=1,\n",
    "    function=boxcox,\n",
    "    reverse=reverse_boxcox,\n",
    "    lmbda=11000\n",
    ")\n",
    "\n",
    "# Fit the model.\n",
    "model.fit()"
   ]
  }
 ],
 "metadata": {
  "kernelspec": {
   "display_name": "py3",
   "language": "python",
   "name": "py3"
  },
  "language_info": {
   "codemirror_mode": {
    "name": "ipython",
    "version": 3
   },
   "file_extension": ".py",
   "mimetype": "text/x-python",
   "name": "python",
   "nbconvert_exporter": "python",
   "pygments_lexer": "ipython3",
   "version": "3.5.2"
  }
 },
 "nbformat": 4,
 "nbformat_minor": 2
}
