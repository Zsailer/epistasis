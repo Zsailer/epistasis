{
 "cells": [
  {
   "cell_type": "markdown",
   "metadata": {},
   "source": [
    "# Linear Regression to estimate high-order epistasis"
   ]
  },
  {
   "cell_type": "code",
   "execution_count": null,
   "metadata": {},
   "outputs": [],
   "source": []
  },
  {
   "cell_type": "code",
   "execution_count": null,
   "metadata": {},
   "outputs": [],
   "source": [
    "from epistasis.models import NonlinearEpistasisRegression\n",
    "\n",
    "# Define the nonlinear relationship and it's inverse.\n",
    "def boxcox(x, lmbda):\n",
    "    return (x**lmbda - 1) / lmbda\n",
    "\n",
    "def reverse_boxcox(y, lmbda):\n",
    "    return (lmbda*y + 1) ** (1/lmbda)\n",
    "\n",
    "# Initialize the model\n",
    "model = NonlinearEpistasisRegression.from_json(\"data.json\",\n",
    "    order=1,\n",
    "    function=boxcox,\n",
    "    reverse=reverse_boxcox\n",
    ")\n",
    "\n",
    "# Fit the model.\n",
    "model.fit(lmbda=3)"
   ]
  }
 ],
 "metadata": {
  "kernelspec": {
   "display_name": "py3",
   "language": "python",
   "name": "py3"
  },
  "language_info": {
   "codemirror_mode": {
    "name": "ipython",
    "version": 3
   },
   "file_extension": ".py",
   "mimetype": "text/x-python",
   "name": "python",
   "nbconvert_exporter": "python",
   "pygments_lexer": "ipython3",
   "version": "3.5.2"
  }
 },
 "nbformat": 4,
 "nbformat_minor": 2
}
