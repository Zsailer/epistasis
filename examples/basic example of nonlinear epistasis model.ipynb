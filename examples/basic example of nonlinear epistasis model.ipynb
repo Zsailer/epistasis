{
 "cells": [
  {
   "cell_type": "markdown",
   "metadata": {},
   "source": [
    "# a basic example of a nonlinear epistasis model\n",
    "\n",
    "This notebook is a demonstration of the nonlinear epistasis model API. The fitting process works in two parts:\n",
    "\n",
    "1. Fit the nonlinearity in the phenotype first,\n",
    "2. Fit the leftover variation in scale with linear epistasis model."
   ]
  },
  {
   "cell_type": "code",
   "execution_count": 1,
   "metadata": {
    "collapsed": true
   },
   "outputs": [],
   "source": [
    "%matplotlib inline"
   ]
  },
  {
   "cell_type": "markdown",
   "metadata": {},
   "source": [
    "import the nonlinear function"
   ]
  },
  {
   "cell_type": "code",
   "execution_count": 2,
   "metadata": {
    "collapsed": false
   },
   "outputs": [],
   "source": [
    "from epistasis.models.nonlinear import NonlinearEpistasisModel"
   ]
  },
  {
   "cell_type": "markdown",
   "metadata": {},
   "source": [
    "Here, we define a nonlinear function to estimate the intrinsic scale of the phenotype. This is a stupidly simple example, as I'm using a line as my \"nonlinear\" function. The first argument in the function must be `x`, and it represents a linear epistasis model which is embedded in a nonlinear function."
   ]
  },
  {
   "cell_type": "code",
   "execution_count": 3,
   "metadata": {
    "collapsed": true
   },
   "outputs": [],
   "source": [
    "def nonlinearity(x, a, b, c):\n",
    "    return a * (x-c) + b"
   ]
  },
  {
   "cell_type": "markdown",
   "metadata": {},
   "source": [
    "The fitting object, then, separates epistasis from the nonlinearity in the phenotype from epistasis between specific mutations."
   ]
  },
  {
   "cell_type": "code",
   "execution_count": 20,
   "metadata": {
    "collapsed": false
   },
   "outputs": [
    {
     "name": "stdout",
     "output_type": "stream",
     "text": [
      "R-squared of fit: 0.77002071238\n",
      "b: -30.7101344113\n",
      "a: 0.888123644928\n",
      "c: -35.0749547097\n"
     ]
    },
    {
     "data": {
      "image/png": "[encoded data removed]",
      "text/plain": [
       "<matplotlib.figure.Figure at 0x10b4a8048>"
      ]
     },
     "metadata": {},
     "output_type": "display_data"
    }
   ],
   "source": [
    "model = NonlinearEpistasisModel.from_json(\"data/linear.json\", order=2, function=nonlinearity)\n",
    "model.fit_widget(a=(0,10,.1), b=(0,10,.1),c=(0,10,.1))"
   ]
  },
  {
   "cell_type": "code",
   "execution_count": 26,
   "metadata": {
    "collapsed": false
   },
   "outputs": [
    {
     "data": {
      "text/plain": [
       "(<matplotlib.figure.Figure at 0x10c6a8b38>,\n",
       " [<matplotlib.axes._subplots.AxesSubplot at 0x10bdd8dd8>,\n",
       "  <matplotlib.axes._subplots.AxesSubplot at 0x10d04c6a0>])"
      ]
     },
     "execution_count": 26,
     "metadata": {},
     "output_type": "execute_result"
    },
    {
     "data": {
      "image/png": "[encoded data removed]",
      "text/plain": [
       "<matplotlib.figure.Figure at 0x10c6a8b38>"
      ]
     },
     "metadata": {},
     "output_type": "display_data"
    }
   ],
   "source": [
    "model.plot.epistasis(figsize=(2.8,3.5), height_ratio=3)"
   ]
  }
 ],
 "metadata": {
  "kernelspec": {
   "display_name": "Python 3",
   "language": "python",
   "name": "python3"
  },
  "language_info": {
   "codemirror_mode": {
    "name": "ipython",
    "version": 3
   },
   "file_extension": ".py",
   "mimetype": "text/x-python",
   "name": "python",
   "nbconvert_exporter": "python",
   "pygments_lexer": "ipython3",
   "version": "3.5.0"
  },
  "widgets": {
   "state": {
    "00cdaab31da44af881f86c27c384aa45": {
     "views": []
    },
    "03475e25cb0446c889b2bdf62505088d": {
     "views": []
    },
    "07d73d4749b24ebfbc6bcb127e57659b": {
     "views": []
    },
    "0d06b0937a274710b02ecae377fb8600": {
     "views": []
    },
    "0df69f5286df4401bc69196808407f2f": {
     "views": []
    },
    "0fe4103b174945668048e9810d2ad439": {
     "views": []
    },
    "10a3ab5631174c19aea9095dd7dd506f": {
     "views": []
    },
    "10f03466faf344889700b1145cfb7fd1": {
     "views": []
    },
    "1515ea5a6c754a55ade4d58004e98904": {
     "views": []
    },
    "1b376115af4848a78774cb94ba8e16ce": {
     "views": []
    },
    "1c2b4230e0e94964a21d5eb80caacb19": {
     "views": []
    },
    "1f81be98e4d14453b75fe9892893bf5e": {
     "views": []
    },
    "2022978c5bdf41de875460ae9523469e": {
     "views": []
    },
    "20a235496f3546cb91c8afe3d0e5eb5d": {
     "views": []
    },
    "2392bef0cbd7422c9d2bdfaa679bcf5a": {
     "views": []
    },
    "2637dacf56bf480d9683e5704fc8cb65": {
     "views": []
    },
    "2639b5dfd3cd4bc9abfbc1a6521154f1": {
     "views": []
    },
    "26ca26e3503f44feba2fc9a50879443f": {
     "views": []
    },
    "27350ce4ec5a4595a8a6b5210961469e": {
     "views": []
    },
    "29d6437e6a2f4c21a5c470fc1dac1326": {
     "views": []
    },
    "2b65c12ef32c4466aaa0ed01263a3a66": {
     "views": []
    },
    "2d9d2fae70a44e3983244ddfd7321826": {
     "views": []
    },
    "360cdb5b2aaa40b2bff68932d5c15ea4": {
     "views": []
    },
    "3710fa4b19d04dac89db6e6b377bdb5c": {
     "views": []
    },
    "376c71489d8f4451a99837c3c48d424e": {
     "views": []
    },
    "3a0dc702e1974fc5bc04f5e827a6ba0c": {
     "views": []
    },
    "3ac972ca743246dca8a5c583c4b8078b": {
     "views": []
    },
    "3aea8d06e9a34d55a4f3bc4fe681f403": {
     "views": []
    },
    "3e6ec0500c4545dab083cbeb193859c8": {
     "views": []
    },
    "3f4592c7a5aa4686a630fa3ab0a3a517": {
     "views": []
    },
    "46b09ed63f0b4ac9964fae452319cfb4": {
     "views": []
    },
    "56ca3d8bfb234be5a77e15759f07fa0e": {
     "views": []
    },
    "59a41b2bef11477caad83376b5133488": {
     "views": []
    },
    "660c8a714c4f436f9d40b687f63bf5c9": {
     "views": []
    },
    "6e7628b0d8204b23807faa76b453df59": {
     "views": []
    },
    "710f854a29954546a3197c1c64607f51": {
     "views": []
    },
    "777c0cbde6614817a347c0b7398a354b": {
     "views": []
    },
    "791d467b00b14703accb3fc4006132bf": {
     "views": []
    },
    "7a9cb4894fdd475db820aec0c91068bb": {
     "views": []
    },
    "7b517ef65bda45bda4c6e311510dd6dd": {
     "views": []
    },
    "7cff3a6742204703affb84aa54eecb49": {
     "views": []
    },
    "823247a48d8a4e2ab57154bec5534037": {
     "views": []
    },
    "829b3329500042d98f08a2981d1e0cef": {
     "views": []
    },
    "82f158ce611b47eaa6c121df3ac44e14": {
     "views": []
    },
    "8349a2017ec0470289b4c26612f62989": {
     "views": []
    },
    "84ef5989543a475ebf3ef3d9eaea48c0": {
     "views": []
    },
    "85fcab29b12d49008f65e9f766719ffd": {
     "views": []
    },
    "865d771904ab48378ee1211570fa4618": {
     "views": []
    },
    "86e7a643a44743a9a566534d2d4ef8f1": {
     "views": []
    },
    "8774ac4264614272b1cfcdef6e8a0eda": {
     "views": []
    },
    "89051cdf5d55465e850f752fd59a787e": {
     "views": []
    },
    "8aefd9bf596441e5b6a3e13c1ff93bee": {
     "views": []
    },
    "8dfd80c1c0b0482f87d9a2b4f50a2f69": {
     "views": []
    },
    "8e1ffbbecd6f4a0fb1bf3e930a8274b9": {
     "views": []
    },
    "96cb368f5f2f4f6f9f9b08e295e6f332": {
     "views": []
    },
    "a6016e187cb94296a6ac759b312dc93c": {
     "views": []
    },
    "a63e94941d304904bcc18f2144862223": {
     "views": []
    },
    "a89d28c2111f45a59c749bca06f5c4c0": {
     "views": []
    },
    "afb23a77748a49a6b78ff9f38f80443a": {
     "views": []
    },
    "b1f645f36bd9462f83e6a982877c6847": {
     "views": []
    },
    "b2b28334a49b4c5e8f51deec54db5b4d": {
     "views": []
    },
    "b4d6e877e41341ad80cad152976aa531": {
     "views": []
    },
    "b69072f774fe42de93b108b7d46adaa9": {
     "views": []
    },
    "b6fd23fa5ccf416a8979e21b43aba7e7": {
     "views": []
    },
    "b9e6f479aaae41dfa88b03d56269accf": {
     "views": []
    },
    "bb360c78fb4a4a8b99a52babc3eff5ac": {
     "views": []
    },
    "bd8c115689a24dfb94aa0cd2bf2386ad": {
     "views": []
    },
    "be83b69effb44b3ba3aceb30141a05cc": {
     "views": []
    },
    "bf60003374f045dc96903bdb5248be63": {
     "views": []
    },
    "c07251ec10014bdd92b82c7e9052ee9e": {
     "views": []
    },
    "c08c5f7a1c124d1c94ca4128e03b254f": {
     "views": []
    },
    "c360b8460ab1433d84a49a89bc3e7c60": {
     "views": []
    },
    "c7baba73c3b747e08f6c8895a79a0d46": {
     "views": []
    },
    "cc825d19438540d982b899a3b47bd983": {
     "views": []
    },
    "d1e87e95509a426896da8d5ce46203e7": {
     "views": []
    },
    "d69dbc3cc67b415993e6c533b1794295": {
     "views": []
    },
    "d9c6310c3d814fc6af82c36c886059c6": {
     "views": []
    },
    "db0d331f958a46cfa214989c81926318": {
     "views": [
      {
       "cell_index": 7
      }
     ]
    },
    "df66187d8bf94323835e85bd7c5bacd3": {
     "views": []
    },
    "e1563fd98dba4ec0b7ff760a6b80a003": {
     "views": []
    },
    "e8a4914fdcb34dd381935c73c4a98a61": {
     "views": []
    },
    "ea6c5e2225e64188af0f930dff8c741a": {
     "views": []
    },
    "ed277127eab944408678e156209f9994": {
     "views": []
    },
    "edee72e60fcb423bba7b13159d347017": {
     "views": []
    },
    "efc6d5cd878a41998700d3d638d18002": {
     "views": []
    },
    "f1e746b966da44a0a5866c8c1c41b261": {
     "views": []
    },
    "f6fea738092048849ecb1ca0f0f43db6": {
     "views": []
    },
    "fce7fe6a86cc45b3993493f6cc3862fa": {
     "views": []
    }
   },
   "version": "1.1.1"
  }
 },
 "nbformat": 4,
 "nbformat_minor": 0
}
